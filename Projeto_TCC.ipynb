{
 "cells": [
  {
   "cell_type": "markdown",
   "metadata": {},
   "source": [
    "#### <font color='black'>Aluno:</font><font color='purple'> Lucas do Prado Ferreira Pinto</font>\n",
    "\n",
    "# <font color='blue'>Pós Graduação - PUC Minas</font>\n",
    "\n",
    "# <font color='red'>Ciência de Dados</font>\n",
    "\n",
    "## Trabalho de Conclusão de Curso - Turma 2020\n",
    "\n",
    "### <font color='green'>Objetivo:</font>\n",
    "\n",
    "#### <font color='black'>Prever se um determinado Empregador possui alguma Irregularidade voltada à Legislação Trabalhista ou à Segurança e Saúde no Trabalho.</font>\n",
    "\n",
    "#### <font color='black'>Mínimo de Precisão: 70%</font>"
   ]
  },
  {
   "cell_type": "code",
   "execution_count": 1,
   "metadata": {},
   "outputs": [
    {
     "name": "stdout",
     "output_type": "stream",
     "text": [
      "Versão Python: 3.7.6\n"
     ]
    }
   ],
   "source": [
    "# Verificando a Versão do Python\n",
    "\n",
    "from platform import python_version\n",
    "print('Versão Python:', python_version())"
   ]
  },
  {
   "cell_type": "code",
   "execution_count": 2,
   "metadata": {},
   "outputs": [],
   "source": [
    "# Importando os Módulos Necessários para a Exploração e Preparação dos Dados\n",
    "\n",
    "import pandas as pd      \n",
    "import matplotlib as mat\n",
    "import matplotlib.pyplot as plt    \n",
    "import numpy as np\n",
    "import seaborn as sns\n",
    "\n",
    "# Para Gráficos Dentro do Jupyter Notebook           \n",
    "\n",
    "%matplotlib inline"
   ]
  },
  {
   "cell_type": "code",
   "execution_count": 3,
   "metadata": {},
   "outputs": [
    {
     "data": {
      "text/plain": [
       "'1.0.1'"
      ]
     },
     "execution_count": 3,
     "metadata": {},
     "output_type": "execute_result"
    }
   ],
   "source": [
    "# Verificando a Versão do Pandas\n",
    "\n",
    "pd.__version__"
   ]
  },
  {
   "cell_type": "code",
   "execution_count": 4,
   "metadata": {},
   "outputs": [
    {
     "data": {
      "text/plain": [
       "'3.1.3'"
      ]
     },
     "execution_count": 4,
     "metadata": {},
     "output_type": "execute_result"
    }
   ],
   "source": [
    "# Verificando a Versão do Matplotlib\n",
    "\n",
    "mat.__version__"
   ]
  },
  {
   "cell_type": "code",
   "execution_count": 5,
   "metadata": {},
   "outputs": [
    {
     "data": {
      "text/plain": [
       "'1.18.1'"
      ]
     },
     "execution_count": 5,
     "metadata": {},
     "output_type": "execute_result"
    }
   ],
   "source": [
    "# Verificando a Versão do Numpy\n",
    "\n",
    "np.__version__"
   ]
  },
  {
   "cell_type": "code",
   "execution_count": 6,
   "metadata": {},
   "outputs": [
    {
     "data": {
      "text/plain": [
       "'0.10.0'"
      ]
     },
     "execution_count": 6,
     "metadata": {},
     "output_type": "execute_result"
    }
   ],
   "source": [
    "# Verificando a Versão do Seaborn\n",
    "\n",
    "sns.__version__"
   ]
  },
  {
   "cell_type": "markdown",
   "metadata": {},
   "source": [
    "### <font color='blue'>Dataset nº 1 - Fiscalizações Realizadas</font>\n",
    "\n",
    "### <font color='black'>Explorando e Preparando os Dados</font>"
   ]
  },
  {
   "cell_type": "code",
   "execution_count": 7,
   "metadata": {},
   "outputs": [],
   "source": [
    "# Carregando o Dataset nº 1 - Fiscalizações Diretas (Formato xlsx) - FONTE: SGBD Microsoft SQL Server - BD Marfim\n",
    "\n",
    "dataset_1 = pd.read_excel(\"Fiscalizacoes_Diretas.xlsx\")   "
   ]
  },
  {
   "cell_type": "code",
   "execution_count": 8,
   "metadata": {},
   "outputs": [
    {
     "data": {
      "text/plain": [
       "(55601, 9)"
      ]
     },
     "execution_count": 8,
     "metadata": {},
     "output_type": "execute_result"
    }
   ],
   "source": [
    "# Verificando o Formato dos Dados do Dataset nº 1 - Fiscalizações Diretas\n",
    "\n",
    "dataset_1.shape"
   ]
  },
  {
   "cell_type": "code",
   "execution_count": 9,
   "metadata": {},
   "outputs": [],
   "source": [
    "# Resumo do Dataset nº 1 - Fiscalizações Diretas\n",
    "\n",
    "# 55.601 Observações ou Registros (Linhas) \n",
    "\n",
    "# 9 Variáveis (Colunas)"
   ]
  },
  {
   "cell_type": "code",
   "execution_count": 10,
   "metadata": {},
   "outputs": [
    {
     "data": {
      "text/html": [
       "<div>\n",
       "<style scoped>\n",
       "    .dataframe tbody tr th:only-of-type {\n",
       "        vertical-align: middle;\n",
       "    }\n",
       "\n",
       "    .dataframe tbody tr th {\n",
       "        vertical-align: top;\n",
       "    }\n",
       "\n",
       "    .dataframe thead th {\n",
       "        text-align: right;\n",
       "    }\n",
       "</style>\n",
       "<table border=\"1\" class=\"dataframe\">\n",
       "  <thead>\n",
       "    <tr style=\"text-align: right;\">\n",
       "      <th></th>\n",
       "      <th>Numero_do_Relatorio_de_Inspecao</th>\n",
       "      <th>UF_do_Empregador_Fiscalizado</th>\n",
       "      <th>Municipio</th>\n",
       "      <th>Codigo_do_Municipio</th>\n",
       "      <th>Quantidade_de_Trabalhadores_do_Empregador</th>\n",
       "      <th>Numero_de_AFTs_na_Equipe</th>\n",
       "      <th>Quantidade_de_Ementas_de_Legislação_Fiscalizadas</th>\n",
       "      <th>Quantidade_de_Ementas_de_SST_Fiscalizadas</th>\n",
       "      <th>Empregador_com_Irregularidade</th>\n",
       "    </tr>\n",
       "  </thead>\n",
       "  <tbody>\n",
       "    <tr>\n",
       "      <th>0</th>\n",
       "      <td>305311247</td>\n",
       "      <td>MG</td>\n",
       "      <td>Contagem</td>\n",
       "      <td>3118601</td>\n",
       "      <td>1569</td>\n",
       "      <td>1</td>\n",
       "      <td>2</td>\n",
       "      <td>0</td>\n",
       "      <td>1</td>\n",
       "    </tr>\n",
       "    <tr>\n",
       "      <th>1</th>\n",
       "      <td>305312979</td>\n",
       "      <td>PA</td>\n",
       "      <td>Belém</td>\n",
       "      <td>1501402</td>\n",
       "      <td>131</td>\n",
       "      <td>2</td>\n",
       "      <td>9</td>\n",
       "      <td>8</td>\n",
       "      <td>1</td>\n",
       "    </tr>\n",
       "    <tr>\n",
       "      <th>2</th>\n",
       "      <td>305335146</td>\n",
       "      <td>SP</td>\n",
       "      <td>São Paulo</td>\n",
       "      <td>3550308</td>\n",
       "      <td>1</td>\n",
       "      <td>1</td>\n",
       "      <td>1</td>\n",
       "      <td>0</td>\n",
       "      <td>1</td>\n",
       "    </tr>\n",
       "    <tr>\n",
       "      <th>3</th>\n",
       "      <td>305337807</td>\n",
       "      <td>SP</td>\n",
       "      <td>Novo Horizonte</td>\n",
       "      <td>3533502</td>\n",
       "      <td>2090</td>\n",
       "      <td>2</td>\n",
       "      <td>4</td>\n",
       "      <td>0</td>\n",
       "      <td>1</td>\n",
       "    </tr>\n",
       "    <tr>\n",
       "      <th>4</th>\n",
       "      <td>305359150</td>\n",
       "      <td>DF</td>\n",
       "      <td>Brasília</td>\n",
       "      <td>5300108</td>\n",
       "      <td>29</td>\n",
       "      <td>2</td>\n",
       "      <td>7</td>\n",
       "      <td>0</td>\n",
       "      <td>1</td>\n",
       "    </tr>\n",
       "  </tbody>\n",
       "</table>\n",
       "</div>"
      ],
      "text/plain": [
       "   Numero_do_Relatorio_de_Inspecao UF_do_Empregador_Fiscalizado  \\\n",
       "0                        305311247                           MG   \n",
       "1                        305312979                           PA   \n",
       "2                        305335146                           SP   \n",
       "3                        305337807                           SP   \n",
       "4                        305359150                           DF   \n",
       "\n",
       "        Municipio  Codigo_do_Municipio  \\\n",
       "0        Contagem              3118601   \n",
       "1           Belém              1501402   \n",
       "2       São Paulo              3550308   \n",
       "3  Novo Horizonte              3533502   \n",
       "4        Brasília              5300108   \n",
       "\n",
       "   Quantidade_de_Trabalhadores_do_Empregador  Numero_de_AFTs_na_Equipe  \\\n",
       "0                                       1569                         1   \n",
       "1                                        131                         2   \n",
       "2                                          1                         1   \n",
       "3                                       2090                         2   \n",
       "4                                         29                         2   \n",
       "\n",
       "   Quantidade_de_Ementas_de_Legislação_Fiscalizadas  \\\n",
       "0                                                 2   \n",
       "1                                                 9   \n",
       "2                                                 1   \n",
       "3                                                 4   \n",
       "4                                                 7   \n",
       "\n",
       "   Quantidade_de_Ementas_de_SST_Fiscalizadas  Empregador_com_Irregularidade  \n",
       "0                                          0                              1  \n",
       "1                                          8                              1  \n",
       "2                                          0                              1  \n",
       "3                                          0                              1  \n",
       "4                                          0                              1  "
      ]
     },
     "execution_count": 10,
     "metadata": {},
     "output_type": "execute_result"
    }
   ],
   "source": [
    "# Verificando as Primeiras linhas do Dataset nº 1 - Fiscalizações Diretas\n",
    "\n",
    "dataset_1.head(5)"
   ]
  },
  {
   "cell_type": "code",
   "execution_count": 11,
   "metadata": {},
   "outputs": [
    {
     "data": {
      "text/html": [
       "<div>\n",
       "<style scoped>\n",
       "    .dataframe tbody tr th:only-of-type {\n",
       "        vertical-align: middle;\n",
       "    }\n",
       "\n",
       "    .dataframe tbody tr th {\n",
       "        vertical-align: top;\n",
       "    }\n",
       "\n",
       "    .dataframe thead th {\n",
       "        text-align: right;\n",
       "    }\n",
       "</style>\n",
       "<table border=\"1\" class=\"dataframe\">\n",
       "  <thead>\n",
       "    <tr style=\"text-align: right;\">\n",
       "      <th></th>\n",
       "      <th>Numero_do_Relatorio_de_Inspecao</th>\n",
       "      <th>UF_do_Empregador_Fiscalizado</th>\n",
       "      <th>Municipio</th>\n",
       "      <th>Codigo_do_Municipio</th>\n",
       "      <th>Quantidade_de_Trabalhadores_do_Empregador</th>\n",
       "      <th>Numero_de_AFTs_na_Equipe</th>\n",
       "      <th>Quantidade_de_Ementas_de_Legislação_Fiscalizadas</th>\n",
       "      <th>Quantidade_de_Ementas_de_SST_Fiscalizadas</th>\n",
       "      <th>Empregador_com_Irregularidade</th>\n",
       "    </tr>\n",
       "  </thead>\n",
       "  <tbody>\n",
       "    <tr>\n",
       "      <th>55596</th>\n",
       "      <td>310527538</td>\n",
       "      <td>PB</td>\n",
       "      <td>João Pessoa</td>\n",
       "      <td>2507507</td>\n",
       "      <td>8</td>\n",
       "      <td>1</td>\n",
       "      <td>0</td>\n",
       "      <td>17</td>\n",
       "      <td>1</td>\n",
       "    </tr>\n",
       "    <tr>\n",
       "      <th>55597</th>\n",
       "      <td>310528992</td>\n",
       "      <td>SP</td>\n",
       "      <td>Presidente Prudente</td>\n",
       "      <td>3541406</td>\n",
       "      <td>3</td>\n",
       "      <td>1</td>\n",
       "      <td>3</td>\n",
       "      <td>0</td>\n",
       "      <td>0</td>\n",
       "    </tr>\n",
       "    <tr>\n",
       "      <th>55598</th>\n",
       "      <td>310529867</td>\n",
       "      <td>SP</td>\n",
       "      <td>Presidente Prudente</td>\n",
       "      <td>3541406</td>\n",
       "      <td>2</td>\n",
       "      <td>1</td>\n",
       "      <td>2</td>\n",
       "      <td>0</td>\n",
       "      <td>0</td>\n",
       "    </tr>\n",
       "    <tr>\n",
       "      <th>55599</th>\n",
       "      <td>310530091</td>\n",
       "      <td>MA</td>\n",
       "      <td>São Luís</td>\n",
       "      <td>2111300</td>\n",
       "      <td>8</td>\n",
       "      <td>3</td>\n",
       "      <td>0</td>\n",
       "      <td>17</td>\n",
       "      <td>1</td>\n",
       "    </tr>\n",
       "    <tr>\n",
       "      <th>55600</th>\n",
       "      <td>310530385</td>\n",
       "      <td>MA</td>\n",
       "      <td>São Luís</td>\n",
       "      <td>2111300</td>\n",
       "      <td>64</td>\n",
       "      <td>3</td>\n",
       "      <td>0</td>\n",
       "      <td>17</td>\n",
       "      <td>1</td>\n",
       "    </tr>\n",
       "  </tbody>\n",
       "</table>\n",
       "</div>"
      ],
      "text/plain": [
       "       Numero_do_Relatorio_de_Inspecao UF_do_Empregador_Fiscalizado  \\\n",
       "55596                        310527538                           PB   \n",
       "55597                        310528992                           SP   \n",
       "55598                        310529867                           SP   \n",
       "55599                        310530091                           MA   \n",
       "55600                        310530385                           MA   \n",
       "\n",
       "                 Municipio  Codigo_do_Municipio  \\\n",
       "55596          João Pessoa              2507507   \n",
       "55597  Presidente Prudente              3541406   \n",
       "55598  Presidente Prudente              3541406   \n",
       "55599             São Luís              2111300   \n",
       "55600             São Luís              2111300   \n",
       "\n",
       "       Quantidade_de_Trabalhadores_do_Empregador  Numero_de_AFTs_na_Equipe  \\\n",
       "55596                                          8                         1   \n",
       "55597                                          3                         1   \n",
       "55598                                          2                         1   \n",
       "55599                                          8                         3   \n",
       "55600                                         64                         3   \n",
       "\n",
       "       Quantidade_de_Ementas_de_Legislação_Fiscalizadas  \\\n",
       "55596                                                 0   \n",
       "55597                                                 3   \n",
       "55598                                                 2   \n",
       "55599                                                 0   \n",
       "55600                                                 0   \n",
       "\n",
       "       Quantidade_de_Ementas_de_SST_Fiscalizadas  \\\n",
       "55596                                         17   \n",
       "55597                                          0   \n",
       "55598                                          0   \n",
       "55599                                         17   \n",
       "55600                                         17   \n",
       "\n",
       "       Empregador_com_Irregularidade  \n",
       "55596                              1  \n",
       "55597                              0  \n",
       "55598                              0  \n",
       "55599                              1  \n",
       "55600                              1  "
      ]
     },
     "execution_count": 11,
     "metadata": {},
     "output_type": "execute_result"
    }
   ],
   "source": [
    "# Verificando as Últimas linhas do Dataset nº 1 - Fiscalizações Diretas\n",
    "\n",
    "dataset_1.tail(5)"
   ]
  },
  {
   "cell_type": "markdown",
   "metadata": {},
   "source": [
    "### <font color='blue'>Dataset nº 2 - População dos Municípios</font>\n",
    "\n",
    "### <font color='black'>Explorando e Preparando os Dados</font>"
   ]
  },
  {
   "cell_type": "code",
   "execution_count": 12,
   "metadata": {},
   "outputs": [],
   "source": [
    "# Carregando o Dataset nº 2 - População dos Municípios (Formato csv) - FONTE: https://basedosdados.org/dataset/br-ibge-populacao\n",
    "\n",
    "dataset_2 = pd.read_csv(\"Municipio_Populacao_2020.csv\") "
   ]
  },
  {
   "cell_type": "code",
   "execution_count": 13,
   "metadata": {},
   "outputs": [
    {
     "data": {
      "text/plain": [
       "(5570, 3)"
      ]
     },
     "execution_count": 13,
     "metadata": {},
     "output_type": "execute_result"
    }
   ],
   "source": [
    "# Verificando o Formato dos Dados do Dataset nº 2 - População dos Municípios\n",
    "\n",
    "dataset_2.shape"
   ]
  },
  {
   "cell_type": "code",
   "execution_count": 14,
   "metadata": {},
   "outputs": [],
   "source": [
    "# Resumo do Dataset nº 2 - População dos Municípios\n",
    "\n",
    "# 5.570 Observações ou Registros (Linhas) \n",
    "\n",
    "# 3 Variáveis (Colunas)"
   ]
  },
  {
   "cell_type": "code",
   "execution_count": 15,
   "metadata": {},
   "outputs": [
    {
     "data": {
      "text/html": [
       "<div>\n",
       "<style scoped>\n",
       "    .dataframe tbody tr th:only-of-type {\n",
       "        vertical-align: middle;\n",
       "    }\n",
       "\n",
       "    .dataframe tbody tr th {\n",
       "        vertical-align: top;\n",
       "    }\n",
       "\n",
       "    .dataframe thead th {\n",
       "        text-align: right;\n",
       "    }\n",
       "</style>\n",
       "<table border=\"1\" class=\"dataframe\">\n",
       "  <thead>\n",
       "    <tr style=\"text-align: right;\">\n",
       "      <th></th>\n",
       "      <th>Ano</th>\n",
       "      <th>Codigo_do_Municipio</th>\n",
       "      <th>Populacao_do_Municipio</th>\n",
       "    </tr>\n",
       "  </thead>\n",
       "  <tbody>\n",
       "    <tr>\n",
       "      <th>0</th>\n",
       "      <td>2020</td>\n",
       "      <td>1100015</td>\n",
       "      <td>22728</td>\n",
       "    </tr>\n",
       "    <tr>\n",
       "      <th>1</th>\n",
       "      <td>2020</td>\n",
       "      <td>1100023</td>\n",
       "      <td>109523</td>\n",
       "    </tr>\n",
       "    <tr>\n",
       "      <th>2</th>\n",
       "      <td>2020</td>\n",
       "      <td>1100031</td>\n",
       "      <td>5188</td>\n",
       "    </tr>\n",
       "    <tr>\n",
       "      <th>3</th>\n",
       "      <td>2020</td>\n",
       "      <td>1100049</td>\n",
       "      <td>85893</td>\n",
       "    </tr>\n",
       "    <tr>\n",
       "      <th>4</th>\n",
       "      <td>2020</td>\n",
       "      <td>1100056</td>\n",
       "      <td>16204</td>\n",
       "    </tr>\n",
       "  </tbody>\n",
       "</table>\n",
       "</div>"
      ],
      "text/plain": [
       "    Ano  Codigo_do_Municipio  Populacao_do_Municipio\n",
       "0  2020              1100015                   22728\n",
       "1  2020              1100023                  109523\n",
       "2  2020              1100031                    5188\n",
       "3  2020              1100049                   85893\n",
       "4  2020              1100056                   16204"
      ]
     },
     "execution_count": 15,
     "metadata": {},
     "output_type": "execute_result"
    }
   ],
   "source": [
    "# Verificando as Primeiras linhas do Dataset nº 2 - População dos Municípios\n",
    "\n",
    "dataset_2.head(5)"
   ]
  },
  {
   "cell_type": "code",
   "execution_count": 16,
   "metadata": {},
   "outputs": [
    {
     "data": {
      "text/html": [
       "<div>\n",
       "<style scoped>\n",
       "    .dataframe tbody tr th:only-of-type {\n",
       "        vertical-align: middle;\n",
       "    }\n",
       "\n",
       "    .dataframe tbody tr th {\n",
       "        vertical-align: top;\n",
       "    }\n",
       "\n",
       "    .dataframe thead th {\n",
       "        text-align: right;\n",
       "    }\n",
       "</style>\n",
       "<table border=\"1\" class=\"dataframe\">\n",
       "  <thead>\n",
       "    <tr style=\"text-align: right;\">\n",
       "      <th></th>\n",
       "      <th>Ano</th>\n",
       "      <th>Codigo_do_Municipio</th>\n",
       "      <th>Populacao_do_Municipio</th>\n",
       "    </tr>\n",
       "  </thead>\n",
       "  <tbody>\n",
       "    <tr>\n",
       "      <th>5565</th>\n",
       "      <td>2020</td>\n",
       "      <td>5222005</td>\n",
       "      <td>13977</td>\n",
       "    </tr>\n",
       "    <tr>\n",
       "      <th>5566</th>\n",
       "      <td>2020</td>\n",
       "      <td>5222054</td>\n",
       "      <td>8873</td>\n",
       "    </tr>\n",
       "    <tr>\n",
       "      <th>5567</th>\n",
       "      <td>2020</td>\n",
       "      <td>5222203</td>\n",
       "      <td>6312</td>\n",
       "    </tr>\n",
       "    <tr>\n",
       "      <th>5568</th>\n",
       "      <td>2020</td>\n",
       "      <td>5222302</td>\n",
       "      <td>5882</td>\n",
       "    </tr>\n",
       "    <tr>\n",
       "      <th>5569</th>\n",
       "      <td>2020</td>\n",
       "      <td>5300108</td>\n",
       "      <td>3055149</td>\n",
       "    </tr>\n",
       "  </tbody>\n",
       "</table>\n",
       "</div>"
      ],
      "text/plain": [
       "       Ano  Codigo_do_Municipio  Populacao_do_Municipio\n",
       "5565  2020              5222005                   13977\n",
       "5566  2020              5222054                    8873\n",
       "5567  2020              5222203                    6312\n",
       "5568  2020              5222302                    5882\n",
       "5569  2020              5300108                 3055149"
      ]
     },
     "execution_count": 16,
     "metadata": {},
     "output_type": "execute_result"
    }
   ],
   "source": [
    "# Verificando as Últimas linhas do Dataset nº 2 - População dos Municípios\n",
    "\n",
    "dataset_2.tail(5)"
   ]
  },
  {
   "cell_type": "markdown",
   "metadata": {},
   "source": [
    "### <font color='blue'>Dataset nº 3 - Integração dos Datasets nº 1 e nº 2</font>\n",
    "\n",
    "### <font color='black'>Explorando e Preparando os Dados</font>"
   ]
  },
  {
   "cell_type": "code",
   "execution_count": 17,
   "metadata": {},
   "outputs": [],
   "source": [
    "# Integrando os Datasets nº 1 e nº 2 e Gerando o Dataset nº 3\n",
    "\n",
    "dataset_3 = pd.merge(left=dataset_1,right=dataset_2,how='left',left_on=\"Codigo_do_Municipio\",right_on=\"Codigo_do_Municipio\")"
   ]
  },
  {
   "cell_type": "code",
   "execution_count": 18,
   "metadata": {},
   "outputs": [
    {
     "data": {
      "text/plain": [
       "(55601, 11)"
      ]
     },
     "execution_count": 18,
     "metadata": {},
     "output_type": "execute_result"
    }
   ],
   "source": [
    "# Verificando o Formato dos Dados do Dataset nº 3\n",
    "\n",
    "dataset_3.shape"
   ]
  },
  {
   "cell_type": "code",
   "execution_count": 19,
   "metadata": {},
   "outputs": [],
   "source": [
    "# Resumo do Dataset nº 3\n",
    "\n",
    "# 55.601 Observações ou Registros (Linhas) \n",
    "\n",
    "# 11 Variáveis (Colunas)"
   ]
  },
  {
   "cell_type": "code",
   "execution_count": 20,
   "metadata": {},
   "outputs": [
    {
     "data": {
      "text/html": [
       "<div>\n",
       "<style scoped>\n",
       "    .dataframe tbody tr th:only-of-type {\n",
       "        vertical-align: middle;\n",
       "    }\n",
       "\n",
       "    .dataframe tbody tr th {\n",
       "        vertical-align: top;\n",
       "    }\n",
       "\n",
       "    .dataframe thead th {\n",
       "        text-align: right;\n",
       "    }\n",
       "</style>\n",
       "<table border=\"1\" class=\"dataframe\">\n",
       "  <thead>\n",
       "    <tr style=\"text-align: right;\">\n",
       "      <th></th>\n",
       "      <th>Numero_do_Relatorio_de_Inspecao</th>\n",
       "      <th>UF_do_Empregador_Fiscalizado</th>\n",
       "      <th>Municipio</th>\n",
       "      <th>Codigo_do_Municipio</th>\n",
       "      <th>Quantidade_de_Trabalhadores_do_Empregador</th>\n",
       "      <th>Numero_de_AFTs_na_Equipe</th>\n",
       "      <th>Quantidade_de_Ementas_de_Legislação_Fiscalizadas</th>\n",
       "      <th>Quantidade_de_Ementas_de_SST_Fiscalizadas</th>\n",
       "      <th>Empregador_com_Irregularidade</th>\n",
       "      <th>Ano</th>\n",
       "      <th>Populacao_do_Municipio</th>\n",
       "    </tr>\n",
       "  </thead>\n",
       "  <tbody>\n",
       "    <tr>\n",
       "      <th>0</th>\n",
       "      <td>305311247</td>\n",
       "      <td>MG</td>\n",
       "      <td>Contagem</td>\n",
       "      <td>3118601</td>\n",
       "      <td>1569</td>\n",
       "      <td>1</td>\n",
       "      <td>2</td>\n",
       "      <td>0</td>\n",
       "      <td>1</td>\n",
       "      <td>2020</td>\n",
       "      <td>668949</td>\n",
       "    </tr>\n",
       "    <tr>\n",
       "      <th>1</th>\n",
       "      <td>305312979</td>\n",
       "      <td>PA</td>\n",
       "      <td>Belém</td>\n",
       "      <td>1501402</td>\n",
       "      <td>131</td>\n",
       "      <td>2</td>\n",
       "      <td>9</td>\n",
       "      <td>8</td>\n",
       "      <td>1</td>\n",
       "      <td>2020</td>\n",
       "      <td>1499641</td>\n",
       "    </tr>\n",
       "    <tr>\n",
       "      <th>2</th>\n",
       "      <td>305335146</td>\n",
       "      <td>SP</td>\n",
       "      <td>São Paulo</td>\n",
       "      <td>3550308</td>\n",
       "      <td>1</td>\n",
       "      <td>1</td>\n",
       "      <td>1</td>\n",
       "      <td>0</td>\n",
       "      <td>1</td>\n",
       "      <td>2020</td>\n",
       "      <td>12325232</td>\n",
       "    </tr>\n",
       "    <tr>\n",
       "      <th>3</th>\n",
       "      <td>305337807</td>\n",
       "      <td>SP</td>\n",
       "      <td>Novo Horizonte</td>\n",
       "      <td>3533502</td>\n",
       "      <td>2090</td>\n",
       "      <td>2</td>\n",
       "      <td>4</td>\n",
       "      <td>0</td>\n",
       "      <td>1</td>\n",
       "      <td>2020</td>\n",
       "      <td>41414</td>\n",
       "    </tr>\n",
       "    <tr>\n",
       "      <th>4</th>\n",
       "      <td>305359150</td>\n",
       "      <td>DF</td>\n",
       "      <td>Brasília</td>\n",
       "      <td>5300108</td>\n",
       "      <td>29</td>\n",
       "      <td>2</td>\n",
       "      <td>7</td>\n",
       "      <td>0</td>\n",
       "      <td>1</td>\n",
       "      <td>2020</td>\n",
       "      <td>3055149</td>\n",
       "    </tr>\n",
       "  </tbody>\n",
       "</table>\n",
       "</div>"
      ],
      "text/plain": [
       "   Numero_do_Relatorio_de_Inspecao UF_do_Empregador_Fiscalizado  \\\n",
       "0                        305311247                           MG   \n",
       "1                        305312979                           PA   \n",
       "2                        305335146                           SP   \n",
       "3                        305337807                           SP   \n",
       "4                        305359150                           DF   \n",
       "\n",
       "        Municipio  Codigo_do_Municipio  \\\n",
       "0        Contagem              3118601   \n",
       "1           Belém              1501402   \n",
       "2       São Paulo              3550308   \n",
       "3  Novo Horizonte              3533502   \n",
       "4        Brasília              5300108   \n",
       "\n",
       "   Quantidade_de_Trabalhadores_do_Empregador  Numero_de_AFTs_na_Equipe  \\\n",
       "0                                       1569                         1   \n",
       "1                                        131                         2   \n",
       "2                                          1                         1   \n",
       "3                                       2090                         2   \n",
       "4                                         29                         2   \n",
       "\n",
       "   Quantidade_de_Ementas_de_Legislação_Fiscalizadas  \\\n",
       "0                                                 2   \n",
       "1                                                 9   \n",
       "2                                                 1   \n",
       "3                                                 4   \n",
       "4                                                 7   \n",
       "\n",
       "   Quantidade_de_Ementas_de_SST_Fiscalizadas  Empregador_com_Irregularidade  \\\n",
       "0                                          0                              1   \n",
       "1                                          8                              1   \n",
       "2                                          0                              1   \n",
       "3                                          0                              1   \n",
       "4                                          0                              1   \n",
       "\n",
       "    Ano  Populacao_do_Municipio  \n",
       "0  2020                  668949  \n",
       "1  2020                 1499641  \n",
       "2  2020                12325232  \n",
       "3  2020                   41414  \n",
       "4  2020                 3055149  "
      ]
     },
     "execution_count": 20,
     "metadata": {},
     "output_type": "execute_result"
    }
   ],
   "source": [
    "# Verificando as Primeiras linhas do Dataset nº 3\n",
    "\n",
    "dataset_3.head(5)"
   ]
  },
  {
   "cell_type": "code",
   "execution_count": 21,
   "metadata": {},
   "outputs": [
    {
     "data": {
      "text/html": [
       "<div>\n",
       "<style scoped>\n",
       "    .dataframe tbody tr th:only-of-type {\n",
       "        vertical-align: middle;\n",
       "    }\n",
       "\n",
       "    .dataframe tbody tr th {\n",
       "        vertical-align: top;\n",
       "    }\n",
       "\n",
       "    .dataframe thead th {\n",
       "        text-align: right;\n",
       "    }\n",
       "</style>\n",
       "<table border=\"1\" class=\"dataframe\">\n",
       "  <thead>\n",
       "    <tr style=\"text-align: right;\">\n",
       "      <th></th>\n",
       "      <th>Numero_do_Relatorio_de_Inspecao</th>\n",
       "      <th>UF_do_Empregador_Fiscalizado</th>\n",
       "      <th>Municipio</th>\n",
       "      <th>Codigo_do_Municipio</th>\n",
       "      <th>Quantidade_de_Trabalhadores_do_Empregador</th>\n",
       "      <th>Numero_de_AFTs_na_Equipe</th>\n",
       "      <th>Quantidade_de_Ementas_de_Legislação_Fiscalizadas</th>\n",
       "      <th>Quantidade_de_Ementas_de_SST_Fiscalizadas</th>\n",
       "      <th>Empregador_com_Irregularidade</th>\n",
       "      <th>Ano</th>\n",
       "      <th>Populacao_do_Municipio</th>\n",
       "    </tr>\n",
       "  </thead>\n",
       "  <tbody>\n",
       "    <tr>\n",
       "      <th>55596</th>\n",
       "      <td>310527538</td>\n",
       "      <td>PB</td>\n",
       "      <td>João Pessoa</td>\n",
       "      <td>2507507</td>\n",
       "      <td>8</td>\n",
       "      <td>1</td>\n",
       "      <td>0</td>\n",
       "      <td>17</td>\n",
       "      <td>1</td>\n",
       "      <td>2020</td>\n",
       "      <td>817511</td>\n",
       "    </tr>\n",
       "    <tr>\n",
       "      <th>55597</th>\n",
       "      <td>310528992</td>\n",
       "      <td>SP</td>\n",
       "      <td>Presidente Prudente</td>\n",
       "      <td>3541406</td>\n",
       "      <td>3</td>\n",
       "      <td>1</td>\n",
       "      <td>3</td>\n",
       "      <td>0</td>\n",
       "      <td>0</td>\n",
       "      <td>2020</td>\n",
       "      <td>230371</td>\n",
       "    </tr>\n",
       "    <tr>\n",
       "      <th>55598</th>\n",
       "      <td>310529867</td>\n",
       "      <td>SP</td>\n",
       "      <td>Presidente Prudente</td>\n",
       "      <td>3541406</td>\n",
       "      <td>2</td>\n",
       "      <td>1</td>\n",
       "      <td>2</td>\n",
       "      <td>0</td>\n",
       "      <td>0</td>\n",
       "      <td>2020</td>\n",
       "      <td>230371</td>\n",
       "    </tr>\n",
       "    <tr>\n",
       "      <th>55599</th>\n",
       "      <td>310530091</td>\n",
       "      <td>MA</td>\n",
       "      <td>São Luís</td>\n",
       "      <td>2111300</td>\n",
       "      <td>8</td>\n",
       "      <td>3</td>\n",
       "      <td>0</td>\n",
       "      <td>17</td>\n",
       "      <td>1</td>\n",
       "      <td>2020</td>\n",
       "      <td>1108975</td>\n",
       "    </tr>\n",
       "    <tr>\n",
       "      <th>55600</th>\n",
       "      <td>310530385</td>\n",
       "      <td>MA</td>\n",
       "      <td>São Luís</td>\n",
       "      <td>2111300</td>\n",
       "      <td>64</td>\n",
       "      <td>3</td>\n",
       "      <td>0</td>\n",
       "      <td>17</td>\n",
       "      <td>1</td>\n",
       "      <td>2020</td>\n",
       "      <td>1108975</td>\n",
       "    </tr>\n",
       "  </tbody>\n",
       "</table>\n",
       "</div>"
      ],
      "text/plain": [
       "       Numero_do_Relatorio_de_Inspecao UF_do_Empregador_Fiscalizado  \\\n",
       "55596                        310527538                           PB   \n",
       "55597                        310528992                           SP   \n",
       "55598                        310529867                           SP   \n",
       "55599                        310530091                           MA   \n",
       "55600                        310530385                           MA   \n",
       "\n",
       "                 Municipio  Codigo_do_Municipio  \\\n",
       "55596          João Pessoa              2507507   \n",
       "55597  Presidente Prudente              3541406   \n",
       "55598  Presidente Prudente              3541406   \n",
       "55599             São Luís              2111300   \n",
       "55600             São Luís              2111300   \n",
       "\n",
       "       Quantidade_de_Trabalhadores_do_Empregador  Numero_de_AFTs_na_Equipe  \\\n",
       "55596                                          8                         1   \n",
       "55597                                          3                         1   \n",
       "55598                                          2                         1   \n",
       "55599                                          8                         3   \n",
       "55600                                         64                         3   \n",
       "\n",
       "       Quantidade_de_Ementas_de_Legislação_Fiscalizadas  \\\n",
       "55596                                                 0   \n",
       "55597                                                 3   \n",
       "55598                                                 2   \n",
       "55599                                                 0   \n",
       "55600                                                 0   \n",
       "\n",
       "       Quantidade_de_Ementas_de_SST_Fiscalizadas  \\\n",
       "55596                                         17   \n",
       "55597                                          0   \n",
       "55598                                          0   \n",
       "55599                                         17   \n",
       "55600                                         17   \n",
       "\n",
       "       Empregador_com_Irregularidade   Ano  Populacao_do_Municipio  \n",
       "55596                              1  2020                  817511  \n",
       "55597                              0  2020                  230371  \n",
       "55598                              0  2020                  230371  \n",
       "55599                              1  2020                 1108975  \n",
       "55600                              1  2020                 1108975  "
      ]
     },
     "execution_count": 21,
     "metadata": {},
     "output_type": "execute_result"
    }
   ],
   "source": [
    "# Verificando as Últimas linhas do Dataset nº 3\n",
    "\n",
    "dataset_3.tail(5)"
   ]
  },
  {
   "cell_type": "code",
   "execution_count": 22,
   "metadata": {},
   "outputs": [],
   "source": [
    "# Alterando o Dataset nº 3\n",
    "\n",
    "# Excluindo as Colunas Desnecessárias \n",
    "\n",
    "dataset_3 = dataset_3.drop(columns=[\"Numero_do_Relatorio_de_Inspecao\", \"UF_do_Empregador_Fiscalizado\",\"Municipio\", \"Codigo_do_Municipio\", \"Ano\"])"
   ]
  },
  {
   "cell_type": "code",
   "execution_count": 23,
   "metadata": {},
   "outputs": [],
   "source": [
    "# Alterando o Dataset nº 3\n",
    "\n",
    "# Reordenando as Colunas\n",
    "\n",
    "dataset_3 = dataset_3[['Populacao_do_Municipio', 'Numero_de_AFTs_na_Equipe', 'Quantidade_de_Trabalhadores_do_Empregador', 'Quantidade_de_Ementas_de_Legislação_Fiscalizadas', 'Quantidade_de_Ementas_de_SST_Fiscalizadas', 'Empregador_com_Irregularidade']]"
   ]
  },
  {
   "cell_type": "code",
   "execution_count": 24,
   "metadata": {},
   "outputs": [
    {
     "name": "stdout",
     "output_type": "stream",
     "text": [
      "<class 'pandas.core.frame.DataFrame'>\n",
      "Int64Index: 55601 entries, 0 to 55600\n",
      "Data columns (total 6 columns):\n",
      " #   Column                                            Non-Null Count  Dtype\n",
      "---  ------                                            --------------  -----\n",
      " 0   Populacao_do_Municipio                            55601 non-null  int64\n",
      " 1   Numero_de_AFTs_na_Equipe                          55601 non-null  int64\n",
      " 2   Quantidade_de_Trabalhadores_do_Empregador         55601 non-null  int64\n",
      " 3   Quantidade_de_Ementas_de_Legislação_Fiscalizadas  55601 non-null  int64\n",
      " 4   Quantidade_de_Ementas_de_SST_Fiscalizadas         55601 non-null  int64\n",
      " 5   Empregador_com_Irregularidade                     55601 non-null  int64\n",
      "dtypes: int64(6)\n",
      "memory usage: 3.0 MB\n"
     ]
    }
   ],
   "source": [
    "# Verificando algumas Informações do Dataset nº 3, incluisve seus Tipos de Dados\n",
    "\n",
    "dataset_3.info()"
   ]
  },
  {
   "cell_type": "code",
   "execution_count": 25,
   "metadata": {},
   "outputs": [
    {
     "data": {
      "text/plain": [
       "(55601, 6)"
      ]
     },
     "execution_count": 25,
     "metadata": {},
     "output_type": "execute_result"
    }
   ],
   "source": [
    "# Verificando o Formato dos Dados do Dataset nº 3 Após Alterações\n",
    "\n",
    "dataset_3.shape"
   ]
  },
  {
   "cell_type": "code",
   "execution_count": 26,
   "metadata": {},
   "outputs": [],
   "source": [
    "# Resumo do Dataset nº 3 Após Alterações\n",
    "\n",
    "# 55.601 Observações ou Registros (Linhas) \n",
    "\n",
    "# 6 Variáveis (Colunas)"
   ]
  },
  {
   "cell_type": "code",
   "execution_count": 27,
   "metadata": {},
   "outputs": [
    {
     "data": {
      "text/html": [
       "<div>\n",
       "<style scoped>\n",
       "    .dataframe tbody tr th:only-of-type {\n",
       "        vertical-align: middle;\n",
       "    }\n",
       "\n",
       "    .dataframe tbody tr th {\n",
       "        vertical-align: top;\n",
       "    }\n",
       "\n",
       "    .dataframe thead th {\n",
       "        text-align: right;\n",
       "    }\n",
       "</style>\n",
       "<table border=\"1\" class=\"dataframe\">\n",
       "  <thead>\n",
       "    <tr style=\"text-align: right;\">\n",
       "      <th></th>\n",
       "      <th>Populacao_do_Municipio</th>\n",
       "      <th>Numero_de_AFTs_na_Equipe</th>\n",
       "      <th>Quantidade_de_Trabalhadores_do_Empregador</th>\n",
       "      <th>Quantidade_de_Ementas_de_Legislação_Fiscalizadas</th>\n",
       "      <th>Quantidade_de_Ementas_de_SST_Fiscalizadas</th>\n",
       "      <th>Empregador_com_Irregularidade</th>\n",
       "    </tr>\n",
       "  </thead>\n",
       "  <tbody>\n",
       "    <tr>\n",
       "      <th>0</th>\n",
       "      <td>668949</td>\n",
       "      <td>1</td>\n",
       "      <td>1569</td>\n",
       "      <td>2</td>\n",
       "      <td>0</td>\n",
       "      <td>1</td>\n",
       "    </tr>\n",
       "    <tr>\n",
       "      <th>1</th>\n",
       "      <td>1499641</td>\n",
       "      <td>2</td>\n",
       "      <td>131</td>\n",
       "      <td>9</td>\n",
       "      <td>8</td>\n",
       "      <td>1</td>\n",
       "    </tr>\n",
       "    <tr>\n",
       "      <th>2</th>\n",
       "      <td>12325232</td>\n",
       "      <td>1</td>\n",
       "      <td>1</td>\n",
       "      <td>1</td>\n",
       "      <td>0</td>\n",
       "      <td>1</td>\n",
       "    </tr>\n",
       "    <tr>\n",
       "      <th>3</th>\n",
       "      <td>41414</td>\n",
       "      <td>2</td>\n",
       "      <td>2090</td>\n",
       "      <td>4</td>\n",
       "      <td>0</td>\n",
       "      <td>1</td>\n",
       "    </tr>\n",
       "    <tr>\n",
       "      <th>4</th>\n",
       "      <td>3055149</td>\n",
       "      <td>2</td>\n",
       "      <td>29</td>\n",
       "      <td>7</td>\n",
       "      <td>0</td>\n",
       "      <td>1</td>\n",
       "    </tr>\n",
       "  </tbody>\n",
       "</table>\n",
       "</div>"
      ],
      "text/plain": [
       "   Populacao_do_Municipio  Numero_de_AFTs_na_Equipe  \\\n",
       "0                  668949                         1   \n",
       "1                 1499641                         2   \n",
       "2                12325232                         1   \n",
       "3                   41414                         2   \n",
       "4                 3055149                         2   \n",
       "\n",
       "   Quantidade_de_Trabalhadores_do_Empregador  \\\n",
       "0                                       1569   \n",
       "1                                        131   \n",
       "2                                          1   \n",
       "3                                       2090   \n",
       "4                                         29   \n",
       "\n",
       "   Quantidade_de_Ementas_de_Legislação_Fiscalizadas  \\\n",
       "0                                                 2   \n",
       "1                                                 9   \n",
       "2                                                 1   \n",
       "3                                                 4   \n",
       "4                                                 7   \n",
       "\n",
       "   Quantidade_de_Ementas_de_SST_Fiscalizadas  Empregador_com_Irregularidade  \n",
       "0                                          0                              1  \n",
       "1                                          8                              1  \n",
       "2                                          0                              1  \n",
       "3                                          0                              1  \n",
       "4                                          0                              1  "
      ]
     },
     "execution_count": 27,
     "metadata": {},
     "output_type": "execute_result"
    }
   ],
   "source": [
    "# Verificando as Primeiras linhas do Dataset nº 3 Após Alterações\n",
    "\n",
    "dataset_3.head(5)"
   ]
  },
  {
   "cell_type": "code",
   "execution_count": 28,
   "metadata": {},
   "outputs": [
    {
     "data": {
      "text/html": [
       "<div>\n",
       "<style scoped>\n",
       "    .dataframe tbody tr th:only-of-type {\n",
       "        vertical-align: middle;\n",
       "    }\n",
       "\n",
       "    .dataframe tbody tr th {\n",
       "        vertical-align: top;\n",
       "    }\n",
       "\n",
       "    .dataframe thead th {\n",
       "        text-align: right;\n",
       "    }\n",
       "</style>\n",
       "<table border=\"1\" class=\"dataframe\">\n",
       "  <thead>\n",
       "    <tr style=\"text-align: right;\">\n",
       "      <th></th>\n",
       "      <th>Populacao_do_Municipio</th>\n",
       "      <th>Numero_de_AFTs_na_Equipe</th>\n",
       "      <th>Quantidade_de_Trabalhadores_do_Empregador</th>\n",
       "      <th>Quantidade_de_Ementas_de_Legislação_Fiscalizadas</th>\n",
       "      <th>Quantidade_de_Ementas_de_SST_Fiscalizadas</th>\n",
       "      <th>Empregador_com_Irregularidade</th>\n",
       "    </tr>\n",
       "  </thead>\n",
       "  <tbody>\n",
       "    <tr>\n",
       "      <th>55596</th>\n",
       "      <td>817511</td>\n",
       "      <td>1</td>\n",
       "      <td>8</td>\n",
       "      <td>0</td>\n",
       "      <td>17</td>\n",
       "      <td>1</td>\n",
       "    </tr>\n",
       "    <tr>\n",
       "      <th>55597</th>\n",
       "      <td>230371</td>\n",
       "      <td>1</td>\n",
       "      <td>3</td>\n",
       "      <td>3</td>\n",
       "      <td>0</td>\n",
       "      <td>0</td>\n",
       "    </tr>\n",
       "    <tr>\n",
       "      <th>55598</th>\n",
       "      <td>230371</td>\n",
       "      <td>1</td>\n",
       "      <td>2</td>\n",
       "      <td>2</td>\n",
       "      <td>0</td>\n",
       "      <td>0</td>\n",
       "    </tr>\n",
       "    <tr>\n",
       "      <th>55599</th>\n",
       "      <td>1108975</td>\n",
       "      <td>3</td>\n",
       "      <td>8</td>\n",
       "      <td>0</td>\n",
       "      <td>17</td>\n",
       "      <td>1</td>\n",
       "    </tr>\n",
       "    <tr>\n",
       "      <th>55600</th>\n",
       "      <td>1108975</td>\n",
       "      <td>3</td>\n",
       "      <td>64</td>\n",
       "      <td>0</td>\n",
       "      <td>17</td>\n",
       "      <td>1</td>\n",
       "    </tr>\n",
       "  </tbody>\n",
       "</table>\n",
       "</div>"
      ],
      "text/plain": [
       "       Populacao_do_Municipio  Numero_de_AFTs_na_Equipe  \\\n",
       "55596                  817511                         1   \n",
       "55597                  230371                         1   \n",
       "55598                  230371                         1   \n",
       "55599                 1108975                         3   \n",
       "55600                 1108975                         3   \n",
       "\n",
       "       Quantidade_de_Trabalhadores_do_Empregador  \\\n",
       "55596                                          8   \n",
       "55597                                          3   \n",
       "55598                                          2   \n",
       "55599                                          8   \n",
       "55600                                         64   \n",
       "\n",
       "       Quantidade_de_Ementas_de_Legislação_Fiscalizadas  \\\n",
       "55596                                                 0   \n",
       "55597                                                 3   \n",
       "55598                                                 2   \n",
       "55599                                                 0   \n",
       "55600                                                 0   \n",
       "\n",
       "       Quantidade_de_Ementas_de_SST_Fiscalizadas  \\\n",
       "55596                                         17   \n",
       "55597                                          0   \n",
       "55598                                          0   \n",
       "55599                                         17   \n",
       "55600                                         17   \n",
       "\n",
       "       Empregador_com_Irregularidade  \n",
       "55596                              1  \n",
       "55597                              0  \n",
       "55598                              0  \n",
       "55599                              1  \n",
       "55600                              1  "
      ]
     },
     "execution_count": 28,
     "metadata": {},
     "output_type": "execute_result"
    }
   ],
   "source": [
    "# Verificando as Últimas linhas do Dataset nº 3 Após Alterações\n",
    "\n",
    "dataset_3.tail(5)"
   ]
  },
  {
   "cell_type": "code",
   "execution_count": 29,
   "metadata": {},
   "outputs": [
    {
     "data": {
      "text/plain": [
       "False"
      ]
     },
     "execution_count": 29,
     "metadata": {},
     "output_type": "execute_result"
    }
   ],
   "source": [
    "# Verificando a Existência de Valores Nulos (NaN) no Dataset nº 3 Após Alterações\n",
    "\n",
    "dataset_3.isnull().values.any()"
   ]
  },
  {
   "cell_type": "code",
   "execution_count": 30,
   "metadata": {},
   "outputs": [
    {
     "data": {
      "text/plain": [
       "Populacao_do_Municipio                              0\n",
       "Numero_de_AFTs_na_Equipe                            0\n",
       "Quantidade_de_Trabalhadores_do_Empregador           0\n",
       "Quantidade_de_Ementas_de_Legislação_Fiscalizadas    0\n",
       "Quantidade_de_Ementas_de_SST_Fiscalizadas           0\n",
       "Empregador_com_Irregularidade                       0\n",
       "dtype: int64"
      ]
     },
     "execution_count": 30,
     "metadata": {},
     "output_type": "execute_result"
    }
   ],
   "source": [
    "# Confirmando a Inexistência de Valores Nulos (NaN) em Cada Variável (Coluna) do Dataset nº 3 Após Alterações\n",
    "\n",
    "dataset_3.isnull().sum()"
   ]
  },
  {
   "cell_type": "code",
   "execution_count": 31,
   "metadata": {},
   "outputs": [
    {
     "data": {
      "text/plain": [
       "0"
      ]
     },
     "execution_count": 31,
     "metadata": {},
     "output_type": "execute_result"
    }
   ],
   "source": [
    "dataset_3.index.duplicated().sum()"
   ]
  },
  {
   "cell_type": "code",
   "execution_count": 32,
   "metadata": {},
   "outputs": [
    {
     "name": "stdout",
     "output_type": "stream",
     "text": [
      "1 - Quantidade de Fiscalizações: 55601\n",
      "2 - Quantidade de Fiscalizações em Municípios Acima de 500 Mil Habitantes: 27456\n",
      "3 - Quantidade de Fiscalizações com Apenas 1 Auditor-Fiscal na Equipe: 30458\n",
      "4 - Quantidade de Fiscalizações em Empregadores sem Trabalhador: 1645\n",
      "5 - Quantidade de Fiscalizações com Nenhuma Ementa de Legislação Verificada: 7312\n",
      "6 - Quantidade de Fiscalizações com Nenhuma Ementa de Segurança e Saúde Verificada: 28114\n",
      "7 - Quantidade de Fiscalizações em Empregador Irregular: 35835\n",
      "8 - Quantidade de Fiscalizações em Empregador Regular: 19766\n"
     ]
    }
   ],
   "source": [
    "# Analisando Outras Informações do Dataset nº 3 (Após Alterações) Referentes às Fiscalizações Realizadas\n",
    "\n",
    "print(\"1 - Quantidade de Fiscalizações: {0}\".format(len(dataset_3)))\n",
    "print(\"2 - Quantidade de Fiscalizações em Municípios Acima de 500 Mil Habitantes: {0}\".format(len(dataset_3.loc[dataset_3['Populacao_do_Municipio'] > 500000])))\n",
    "print(\"3 - Quantidade de Fiscalizações com Apenas 1 Auditor-Fiscal na Equipe: {0}\".format(len(dataset_3.loc[dataset_3['Numero_de_AFTs_na_Equipe'] == 1])))\n",
    "print(\"4 - Quantidade de Fiscalizações em Empregadores sem Trabalhador: {0}\".format(len(dataset_3.loc[dataset_3['Quantidade_de_Trabalhadores_do_Empregador'] == 0])))\n",
    "print(\"5 - Quantidade de Fiscalizações com Nenhuma Ementa de Legislação Verificada: {0}\".format(len(dataset_3.loc[dataset_3['Quantidade_de_Ementas_de_Legislação_Fiscalizadas'] == 0])))\n",
    "print(\"6 - Quantidade de Fiscalizações com Nenhuma Ementa de Segurança e Saúde Verificada: {0}\".format(len(dataset_3.loc[dataset_3['Quantidade_de_Ementas_de_SST_Fiscalizadas'] == 0])))\n",
    "print(\"7 - Quantidade de Fiscalizações em Empregador Irregular: {0}\".format(len(dataset_3.loc[dataset_3['Empregador_com_Irregularidade'] == 1])))\n",
    "print(\"8 - Quantidade de Fiscalizações em Empregador Regular: {0}\".format(len(dataset_3.loc[dataset_3['Empregador_com_Irregularidade'] == 0])))"
   ]
  },
  {
   "cell_type": "markdown",
   "metadata": {},
   "source": [
    "### <font color='green'>Dataset Final</font>\n",
    "\n",
    "### <font color='black'>Explorando e Preparando os Dados</font>"
   ]
  },
  {
   "cell_type": "code",
   "execution_count": 33,
   "metadata": {},
   "outputs": [],
   "source": [
    "# Removendo Registros Desnecessários do Dataset nº 3 - Fiscalizações em Empregadores sem Trabalhador\n",
    "\n",
    "registros_remover = dataset_3.loc[(dataset_3['Quantidade_de_Trabalhadores_do_Empregador'] == 0)]"
   ]
  },
  {
   "cell_type": "code",
   "execution_count": 34,
   "metadata": {},
   "outputs": [
    {
     "data": {
      "text/html": [
       "<div>\n",
       "<style scoped>\n",
       "    .dataframe tbody tr th:only-of-type {\n",
       "        vertical-align: middle;\n",
       "    }\n",
       "\n",
       "    .dataframe tbody tr th {\n",
       "        vertical-align: top;\n",
       "    }\n",
       "\n",
       "    .dataframe thead th {\n",
       "        text-align: right;\n",
       "    }\n",
       "</style>\n",
       "<table border=\"1\" class=\"dataframe\">\n",
       "  <thead>\n",
       "    <tr style=\"text-align: right;\">\n",
       "      <th></th>\n",
       "      <th>Populacao_do_Municipio</th>\n",
       "      <th>Numero_de_AFTs_na_Equipe</th>\n",
       "      <th>Quantidade_de_Trabalhadores_do_Empregador</th>\n",
       "      <th>Quantidade_de_Ementas_de_Legislação_Fiscalizadas</th>\n",
       "      <th>Quantidade_de_Ementas_de_SST_Fiscalizadas</th>\n",
       "      <th>Empregador_com_Irregularidade</th>\n",
       "    </tr>\n",
       "  </thead>\n",
       "  <tbody>\n",
       "    <tr>\n",
       "      <th>44</th>\n",
       "      <td>12325232</td>\n",
       "      <td>1</td>\n",
       "      <td>0</td>\n",
       "      <td>5</td>\n",
       "      <td>0</td>\n",
       "      <td>1</td>\n",
       "    </tr>\n",
       "    <tr>\n",
       "      <th>45</th>\n",
       "      <td>12325232</td>\n",
       "      <td>1</td>\n",
       "      <td>0</td>\n",
       "      <td>5</td>\n",
       "      <td>0</td>\n",
       "      <td>1</td>\n",
       "    </tr>\n",
       "    <tr>\n",
       "      <th>48</th>\n",
       "      <td>12325232</td>\n",
       "      <td>1</td>\n",
       "      <td>0</td>\n",
       "      <td>5</td>\n",
       "      <td>0</td>\n",
       "      <td>1</td>\n",
       "    </tr>\n",
       "    <tr>\n",
       "      <th>49</th>\n",
       "      <td>1653461</td>\n",
       "      <td>1</td>\n",
       "      <td>0</td>\n",
       "      <td>5</td>\n",
       "      <td>0</td>\n",
       "      <td>1</td>\n",
       "    </tr>\n",
       "    <tr>\n",
       "      <th>52</th>\n",
       "      <td>12325232</td>\n",
       "      <td>4</td>\n",
       "      <td>0</td>\n",
       "      <td>4</td>\n",
       "      <td>0</td>\n",
       "      <td>1</td>\n",
       "    </tr>\n",
       "    <tr>\n",
       "      <th>...</th>\n",
       "      <td>...</td>\n",
       "      <td>...</td>\n",
       "      <td>...</td>\n",
       "      <td>...</td>\n",
       "      <td>...</td>\n",
       "      <td>...</td>\n",
       "    </tr>\n",
       "    <tr>\n",
       "      <th>55466</th>\n",
       "      <td>105809</td>\n",
       "      <td>2</td>\n",
       "      <td>0</td>\n",
       "      <td>4</td>\n",
       "      <td>0</td>\n",
       "      <td>0</td>\n",
       "    </tr>\n",
       "    <tr>\n",
       "      <th>55475</th>\n",
       "      <td>91169</td>\n",
       "      <td>2</td>\n",
       "      <td>0</td>\n",
       "      <td>1</td>\n",
       "      <td>16</td>\n",
       "      <td>0</td>\n",
       "    </tr>\n",
       "    <tr>\n",
       "      <th>55505</th>\n",
       "      <td>235416</td>\n",
       "      <td>3</td>\n",
       "      <td>0</td>\n",
       "      <td>1</td>\n",
       "      <td>19</td>\n",
       "      <td>1</td>\n",
       "    </tr>\n",
       "    <tr>\n",
       "      <th>55510</th>\n",
       "      <td>8347</td>\n",
       "      <td>2</td>\n",
       "      <td>0</td>\n",
       "      <td>2</td>\n",
       "      <td>0</td>\n",
       "      <td>0</td>\n",
       "    </tr>\n",
       "    <tr>\n",
       "      <th>55563</th>\n",
       "      <td>3055149</td>\n",
       "      <td>2</td>\n",
       "      <td>0</td>\n",
       "      <td>2</td>\n",
       "      <td>0</td>\n",
       "      <td>0</td>\n",
       "    </tr>\n",
       "  </tbody>\n",
       "</table>\n",
       "<p>1645 rows × 6 columns</p>\n",
       "</div>"
      ],
      "text/plain": [
       "       Populacao_do_Municipio  Numero_de_AFTs_na_Equipe  \\\n",
       "44                   12325232                         1   \n",
       "45                   12325232                         1   \n",
       "48                   12325232                         1   \n",
       "49                    1653461                         1   \n",
       "52                   12325232                         4   \n",
       "...                       ...                       ...   \n",
       "55466                  105809                         2   \n",
       "55475                   91169                         2   \n",
       "55505                  235416                         3   \n",
       "55510                    8347                         2   \n",
       "55563                 3055149                         2   \n",
       "\n",
       "       Quantidade_de_Trabalhadores_do_Empregador  \\\n",
       "44                                             0   \n",
       "45                                             0   \n",
       "48                                             0   \n",
       "49                                             0   \n",
       "52                                             0   \n",
       "...                                          ...   \n",
       "55466                                          0   \n",
       "55475                                          0   \n",
       "55505                                          0   \n",
       "55510                                          0   \n",
       "55563                                          0   \n",
       "\n",
       "       Quantidade_de_Ementas_de_Legislação_Fiscalizadas  \\\n",
       "44                                                    5   \n",
       "45                                                    5   \n",
       "48                                                    5   \n",
       "49                                                    5   \n",
       "52                                                    4   \n",
       "...                                                 ...   \n",
       "55466                                                 4   \n",
       "55475                                                 1   \n",
       "55505                                                 1   \n",
       "55510                                                 2   \n",
       "55563                                                 2   \n",
       "\n",
       "       Quantidade_de_Ementas_de_SST_Fiscalizadas  \\\n",
       "44                                             0   \n",
       "45                                             0   \n",
       "48                                             0   \n",
       "49                                             0   \n",
       "52                                             0   \n",
       "...                                          ...   \n",
       "55466                                          0   \n",
       "55475                                         16   \n",
       "55505                                         19   \n",
       "55510                                          0   \n",
       "55563                                          0   \n",
       "\n",
       "       Empregador_com_Irregularidade  \n",
       "44                                 1  \n",
       "45                                 1  \n",
       "48                                 1  \n",
       "49                                 1  \n",
       "52                                 1  \n",
       "...                              ...  \n",
       "55466                              0  \n",
       "55475                              0  \n",
       "55505                              1  \n",
       "55510                              0  \n",
       "55563                              0  \n",
       "\n",
       "[1645 rows x 6 columns]"
      ]
     },
     "execution_count": 34,
     "metadata": {},
     "output_type": "execute_result"
    }
   ],
   "source": [
    "# Visualizando os Registros Desnecessários à Remover do Dataset nº 3\n",
    "\n",
    "registros_remover"
   ]
  },
  {
   "cell_type": "code",
   "execution_count": 35,
   "metadata": {},
   "outputs": [],
   "source": [
    "# Gerando o Dataset Final\n",
    "\n",
    "dataset_final = dataset_3.drop(registros_remover.index)"
   ]
  },
  {
   "cell_type": "code",
   "execution_count": 36,
   "metadata": {},
   "outputs": [
    {
     "data": {
      "text/html": [
       "<div>\n",
       "<style scoped>\n",
       "    .dataframe tbody tr th:only-of-type {\n",
       "        vertical-align: middle;\n",
       "    }\n",
       "\n",
       "    .dataframe tbody tr th {\n",
       "        vertical-align: top;\n",
       "    }\n",
       "\n",
       "    .dataframe thead th {\n",
       "        text-align: right;\n",
       "    }\n",
       "</style>\n",
       "<table border=\"1\" class=\"dataframe\">\n",
       "  <thead>\n",
       "    <tr style=\"text-align: right;\">\n",
       "      <th></th>\n",
       "      <th>Populacao_do_Municipio</th>\n",
       "      <th>Numero_de_AFTs_na_Equipe</th>\n",
       "      <th>Quantidade_de_Trabalhadores_do_Empregador</th>\n",
       "      <th>Quantidade_de_Ementas_de_Legislação_Fiscalizadas</th>\n",
       "      <th>Quantidade_de_Ementas_de_SST_Fiscalizadas</th>\n",
       "      <th>Empregador_com_Irregularidade</th>\n",
       "    </tr>\n",
       "  </thead>\n",
       "  <tbody>\n",
       "    <tr>\n",
       "      <th>0</th>\n",
       "      <td>668949</td>\n",
       "      <td>1</td>\n",
       "      <td>1569</td>\n",
       "      <td>2</td>\n",
       "      <td>0</td>\n",
       "      <td>1</td>\n",
       "    </tr>\n",
       "    <tr>\n",
       "      <th>1</th>\n",
       "      <td>1499641</td>\n",
       "      <td>2</td>\n",
       "      <td>131</td>\n",
       "      <td>9</td>\n",
       "      <td>8</td>\n",
       "      <td>1</td>\n",
       "    </tr>\n",
       "    <tr>\n",
       "      <th>2</th>\n",
       "      <td>12325232</td>\n",
       "      <td>1</td>\n",
       "      <td>1</td>\n",
       "      <td>1</td>\n",
       "      <td>0</td>\n",
       "      <td>1</td>\n",
       "    </tr>\n",
       "    <tr>\n",
       "      <th>3</th>\n",
       "      <td>41414</td>\n",
       "      <td>2</td>\n",
       "      <td>2090</td>\n",
       "      <td>4</td>\n",
       "      <td>0</td>\n",
       "      <td>1</td>\n",
       "    </tr>\n",
       "    <tr>\n",
       "      <th>4</th>\n",
       "      <td>3055149</td>\n",
       "      <td>2</td>\n",
       "      <td>29</td>\n",
       "      <td>7</td>\n",
       "      <td>0</td>\n",
       "      <td>1</td>\n",
       "    </tr>\n",
       "    <tr>\n",
       "      <th>...</th>\n",
       "      <td>...</td>\n",
       "      <td>...</td>\n",
       "      <td>...</td>\n",
       "      <td>...</td>\n",
       "      <td>...</td>\n",
       "      <td>...</td>\n",
       "    </tr>\n",
       "    <tr>\n",
       "      <th>55596</th>\n",
       "      <td>817511</td>\n",
       "      <td>1</td>\n",
       "      <td>8</td>\n",
       "      <td>0</td>\n",
       "      <td>17</td>\n",
       "      <td>1</td>\n",
       "    </tr>\n",
       "    <tr>\n",
       "      <th>55597</th>\n",
       "      <td>230371</td>\n",
       "      <td>1</td>\n",
       "      <td>3</td>\n",
       "      <td>3</td>\n",
       "      <td>0</td>\n",
       "      <td>0</td>\n",
       "    </tr>\n",
       "    <tr>\n",
       "      <th>55598</th>\n",
       "      <td>230371</td>\n",
       "      <td>1</td>\n",
       "      <td>2</td>\n",
       "      <td>2</td>\n",
       "      <td>0</td>\n",
       "      <td>0</td>\n",
       "    </tr>\n",
       "    <tr>\n",
       "      <th>55599</th>\n",
       "      <td>1108975</td>\n",
       "      <td>3</td>\n",
       "      <td>8</td>\n",
       "      <td>0</td>\n",
       "      <td>17</td>\n",
       "      <td>1</td>\n",
       "    </tr>\n",
       "    <tr>\n",
       "      <th>55600</th>\n",
       "      <td>1108975</td>\n",
       "      <td>3</td>\n",
       "      <td>64</td>\n",
       "      <td>0</td>\n",
       "      <td>17</td>\n",
       "      <td>1</td>\n",
       "    </tr>\n",
       "  </tbody>\n",
       "</table>\n",
       "<p>53956 rows × 6 columns</p>\n",
       "</div>"
      ],
      "text/plain": [
       "       Populacao_do_Municipio  Numero_de_AFTs_na_Equipe  \\\n",
       "0                      668949                         1   \n",
       "1                     1499641                         2   \n",
       "2                    12325232                         1   \n",
       "3                       41414                         2   \n",
       "4                     3055149                         2   \n",
       "...                       ...                       ...   \n",
       "55596                  817511                         1   \n",
       "55597                  230371                         1   \n",
       "55598                  230371                         1   \n",
       "55599                 1108975                         3   \n",
       "55600                 1108975                         3   \n",
       "\n",
       "       Quantidade_de_Trabalhadores_do_Empregador  \\\n",
       "0                                           1569   \n",
       "1                                            131   \n",
       "2                                              1   \n",
       "3                                           2090   \n",
       "4                                             29   \n",
       "...                                          ...   \n",
       "55596                                          8   \n",
       "55597                                          3   \n",
       "55598                                          2   \n",
       "55599                                          8   \n",
       "55600                                         64   \n",
       "\n",
       "       Quantidade_de_Ementas_de_Legislação_Fiscalizadas  \\\n",
       "0                                                     2   \n",
       "1                                                     9   \n",
       "2                                                     1   \n",
       "3                                                     4   \n",
       "4                                                     7   \n",
       "...                                                 ...   \n",
       "55596                                                 0   \n",
       "55597                                                 3   \n",
       "55598                                                 2   \n",
       "55599                                                 0   \n",
       "55600                                                 0   \n",
       "\n",
       "       Quantidade_de_Ementas_de_SST_Fiscalizadas  \\\n",
       "0                                              0   \n",
       "1                                              8   \n",
       "2                                              0   \n",
       "3                                              0   \n",
       "4                                              0   \n",
       "...                                          ...   \n",
       "55596                                         17   \n",
       "55597                                          0   \n",
       "55598                                          0   \n",
       "55599                                         17   \n",
       "55600                                         17   \n",
       "\n",
       "       Empregador_com_Irregularidade  \n",
       "0                                  1  \n",
       "1                                  1  \n",
       "2                                  1  \n",
       "3                                  1  \n",
       "4                                  1  \n",
       "...                              ...  \n",
       "55596                              1  \n",
       "55597                              0  \n",
       "55598                              0  \n",
       "55599                              1  \n",
       "55600                              1  \n",
       "\n",
       "[53956 rows x 6 columns]"
      ]
     },
     "execution_count": 36,
     "metadata": {},
     "output_type": "execute_result"
    }
   ],
   "source": [
    "# Visualizando o Dataset Final Após a Remoção dos Registros Desnecessários\n",
    "\n",
    "dataset_final"
   ]
  },
  {
   "cell_type": "code",
   "execution_count": 37,
   "metadata": {},
   "outputs": [
    {
     "data": {
      "text/plain": [
       "(53956, 6)"
      ]
     },
     "execution_count": 37,
     "metadata": {},
     "output_type": "execute_result"
    }
   ],
   "source": [
    "# Confirmando o Formato dos Dados do Dataset Final\n",
    "\n",
    "dataset_final.shape"
   ]
  },
  {
   "cell_type": "code",
   "execution_count": 38,
   "metadata": {},
   "outputs": [],
   "source": [
    "# Resumo do Dataset Final\n",
    "\n",
    "# 53.956 Observações ou Registros (Linhas) \n",
    "\n",
    "# 6 Variáveis (Colunas)"
   ]
  },
  {
   "cell_type": "markdown",
   "metadata": {},
   "source": [
    "### <font color='black'>Identificando a Correlação entre as Variáveis:</font>\n",
    "\n",
    "#### <font color='black'>Método nº 1 - Com Cada Variável:</font>"
   ]
  },
  {
   "cell_type": "code",
   "execution_count": 39,
   "metadata": {},
   "outputs": [],
   "source": [
    "# Identificando a Correlação de Cada Variável com as Demais\n",
    "\n",
    "# Permite Identificar Quais as Variáveis são Mais Relevantes para a Construção do Modelo Preditivo\n",
    "\n",
    "# Obs: Correlação não Implica, Necessariamente, em Causalidade\n",
    "\n",
    "def plot_corr(dataset_final, size=6):\n",
    "    corr = dataset_final.corr()    \n",
    "    fig, ax = plt.subplots(figsize = (size, size))\n",
    "    ax.matshow(corr)  \n",
    "    plt.xticks(range(len(corr.columns)), corr.columns) \n",
    "    plt.yticks(range(len(corr.columns)), corr.columns) "
   ]
  },
  {
   "cell_type": "code",
   "execution_count": 40,
   "metadata": {},
   "outputs": [
    {
     "data": {
      "image/png": "[encoded data removed]",
      "text/plain": [
       "<Figure size 432x432 with 1 Axes>"
      ]
     },
     "metadata": {
      "needs_background": "light"
     },
     "output_type": "display_data"
    }
   ],
   "source": [
    "# Gerando o Gráfico de Correlação\n",
    "\n",
    "plot_corr(dataset_final)"
   ]
  },
  {
   "cell_type": "code",
   "execution_count": 41,
   "metadata": {},
   "outputs": [
    {
     "data": {
      "text/html": [
       "<div>\n",
       "<style scoped>\n",
       "    .dataframe tbody tr th:only-of-type {\n",
       "        vertical-align: middle;\n",
       "    }\n",
       "\n",
       "    .dataframe tbody tr th {\n",
       "        vertical-align: top;\n",
       "    }\n",
       "\n",
       "    .dataframe thead th {\n",
       "        text-align: right;\n",
       "    }\n",
       "</style>\n",
       "<table border=\"1\" class=\"dataframe\">\n",
       "  <thead>\n",
       "    <tr style=\"text-align: right;\">\n",
       "      <th></th>\n",
       "      <th>Populacao_do_Municipio</th>\n",
       "      <th>Numero_de_AFTs_na_Equipe</th>\n",
       "      <th>Quantidade_de_Trabalhadores_do_Empregador</th>\n",
       "      <th>Quantidade_de_Ementas_de_Legislação_Fiscalizadas</th>\n",
       "      <th>Quantidade_de_Ementas_de_SST_Fiscalizadas</th>\n",
       "      <th>Empregador_com_Irregularidade</th>\n",
       "    </tr>\n",
       "  </thead>\n",
       "  <tbody>\n",
       "    <tr>\n",
       "      <th>Populacao_do_Municipio</th>\n",
       "      <td>1.000000</td>\n",
       "      <td>0.012232</td>\n",
       "      <td>0.025727</td>\n",
       "      <td>-0.036730</td>\n",
       "      <td>-0.095588</td>\n",
       "      <td>-0.004657</td>\n",
       "    </tr>\n",
       "    <tr>\n",
       "      <th>Numero_de_AFTs_na_Equipe</th>\n",
       "      <td>0.012232</td>\n",
       "      <td>1.000000</td>\n",
       "      <td>0.003387</td>\n",
       "      <td>0.124200</td>\n",
       "      <td>0.054895</td>\n",
       "      <td>0.023295</td>\n",
       "    </tr>\n",
       "    <tr>\n",
       "      <th>Quantidade_de_Trabalhadores_do_Empregador</th>\n",
       "      <td>0.025727</td>\n",
       "      <td>0.003387</td>\n",
       "      <td>1.000000</td>\n",
       "      <td>-0.010844</td>\n",
       "      <td>-0.004884</td>\n",
       "      <td>-0.018501</td>\n",
       "    </tr>\n",
       "    <tr>\n",
       "      <th>Quantidade_de_Ementas_de_Legislação_Fiscalizadas</th>\n",
       "      <td>-0.036730</td>\n",
       "      <td>0.124200</td>\n",
       "      <td>-0.010844</td>\n",
       "      <td>1.000000</td>\n",
       "      <td>0.041732</td>\n",
       "      <td>0.088927</td>\n",
       "    </tr>\n",
       "    <tr>\n",
       "      <th>Quantidade_de_Ementas_de_SST_Fiscalizadas</th>\n",
       "      <td>-0.095588</td>\n",
       "      <td>0.054895</td>\n",
       "      <td>-0.004884</td>\n",
       "      <td>0.041732</td>\n",
       "      <td>1.000000</td>\n",
       "      <td>0.164862</td>\n",
       "    </tr>\n",
       "    <tr>\n",
       "      <th>Empregador_com_Irregularidade</th>\n",
       "      <td>-0.004657</td>\n",
       "      <td>0.023295</td>\n",
       "      <td>-0.018501</td>\n",
       "      <td>0.088927</td>\n",
       "      <td>0.164862</td>\n",
       "      <td>1.000000</td>\n",
       "    </tr>\n",
       "  </tbody>\n",
       "</table>\n",
       "</div>"
      ],
      "text/plain": [
       "                                                  Populacao_do_Municipio  \\\n",
       "Populacao_do_Municipio                                          1.000000   \n",
       "Numero_de_AFTs_na_Equipe                                        0.012232   \n",
       "Quantidade_de_Trabalhadores_do_Empregador                       0.025727   \n",
       "Quantidade_de_Ementas_de_Legislação_Fiscalizadas               -0.036730   \n",
       "Quantidade_de_Ementas_de_SST_Fiscalizadas                      -0.095588   \n",
       "Empregador_com_Irregularidade                                  -0.004657   \n",
       "\n",
       "                                                  Numero_de_AFTs_na_Equipe  \\\n",
       "Populacao_do_Municipio                                            0.012232   \n",
       "Numero_de_AFTs_na_Equipe                                          1.000000   \n",
       "Quantidade_de_Trabalhadores_do_Empregador                         0.003387   \n",
       "Quantidade_de_Ementas_de_Legislação_Fiscalizadas                  0.124200   \n",
       "Quantidade_de_Ementas_de_SST_Fiscalizadas                         0.054895   \n",
       "Empregador_com_Irregularidade                                     0.023295   \n",
       "\n",
       "                                                  Quantidade_de_Trabalhadores_do_Empregador  \\\n",
       "Populacao_do_Municipio                                                             0.025727   \n",
       "Numero_de_AFTs_na_Equipe                                                           0.003387   \n",
       "Quantidade_de_Trabalhadores_do_Empregador                                          1.000000   \n",
       "Quantidade_de_Ementas_de_Legislação_Fiscalizadas                                  -0.010844   \n",
       "Quantidade_de_Ementas_de_SST_Fiscalizadas                                         -0.004884   \n",
       "Empregador_com_Irregularidade                                                     -0.018501   \n",
       "\n",
       "                                                  Quantidade_de_Ementas_de_Legislação_Fiscalizadas  \\\n",
       "Populacao_do_Municipio                                                                   -0.036730   \n",
       "Numero_de_AFTs_na_Equipe                                                                  0.124200   \n",
       "Quantidade_de_Trabalhadores_do_Empregador                                                -0.010844   \n",
       "Quantidade_de_Ementas_de_Legislação_Fiscalizadas                                          1.000000   \n",
       "Quantidade_de_Ementas_de_SST_Fiscalizadas                                                 0.041732   \n",
       "Empregador_com_Irregularidade                                                             0.088927   \n",
       "\n",
       "                                                  Quantidade_de_Ementas_de_SST_Fiscalizadas  \\\n",
       "Populacao_do_Municipio                                                            -0.095588   \n",
       "Numero_de_AFTs_na_Equipe                                                           0.054895   \n",
       "Quantidade_de_Trabalhadores_do_Empregador                                         -0.004884   \n",
       "Quantidade_de_Ementas_de_Legislação_Fiscalizadas                                   0.041732   \n",
       "Quantidade_de_Ementas_de_SST_Fiscalizadas                                          1.000000   \n",
       "Empregador_com_Irregularidade                                                      0.164862   \n",
       "\n",
       "                                                  Empregador_com_Irregularidade  \n",
       "Populacao_do_Municipio                                                -0.004657  \n",
       "Numero_de_AFTs_na_Equipe                                               0.023295  \n",
       "Quantidade_de_Trabalhadores_do_Empregador                             -0.018501  \n",
       "Quantidade_de_Ementas_de_Legislação_Fiscalizadas                       0.088927  \n",
       "Quantidade_de_Ementas_de_SST_Fiscalizadas                              0.164862  \n",
       "Empregador_com_Irregularidade                                          1.000000  "
      ]
     },
     "execution_count": 41,
     "metadata": {},
     "output_type": "execute_result"
    }
   ],
   "source": [
    "# Identificando a Correlação Através de uma Tabela de Valores\n",
    "\n",
    "# Coeficiente de Correlação: \n",
    "\n",
    "# +1  = Correlação Positiva Forte - Se o Valor de uma Variável Aumenta, o da Outra Também Aumenta\n",
    "\n",
    "# 0   = Ausência de Correlação\n",
    "\n",
    "# -1  = Correlação Negativa Forte - Se o Valor de uma Variável Aumenta, o da Outra Diminui\n",
    "\n",
    "dataset_final.corr()"
   ]
  },
  {
   "cell_type": "markdown",
   "metadata": {},
   "source": [
    "#### <font color='black'>Método nº 2 - Com a Variável Target (A Ser Prevista):</font>"
   ]
  },
  {
   "cell_type": "code",
   "execution_count": 42,
   "metadata": {},
   "outputs": [],
   "source": [
    "# Utilizando o Feature Importance da Scikit Learn\n",
    "\n",
    "from sklearn.ensemble import RandomForestClassifier"
   ]
  },
  {
   "cell_type": "code",
   "execution_count": 43,
   "metadata": {},
   "outputs": [],
   "source": [
    "# Instanciando o Modelo para o Feature Importance (com 10 Árvores)\n",
    "\n",
    "modelo_fi = RandomForestClassifier (n_estimators=10)"
   ]
  },
  {
   "cell_type": "code",
   "execution_count": 44,
   "metadata": {},
   "outputs": [],
   "source": [
    "# Identificando as Variáveis Preditoras (X)\n",
    "\n",
    "# Identificando a Variável Target (A Ser Prevista) (Y)\n",
    "\n",
    "X = dataset_final.drop(['Empregador_com_Irregularidade'], axis=1)\n",
    "Y = dataset_final['Empregador_com_Irregularidade']"
   ]
  },
  {
   "cell_type": "code",
   "execution_count": 45,
   "metadata": {},
   "outputs": [
    {
     "data": {
      "text/plain": [
       "RandomForestClassifier(n_estimators=10)"
      ]
     },
     "execution_count": 45,
     "metadata": {},
     "output_type": "execute_result"
    }
   ],
   "source": [
    "# Treinando o Algoritmo do Modelo para o Feature Importance\n",
    "\n",
    "modelo_fi.fit(X,Y)"
   ]
  },
  {
   "cell_type": "code",
   "execution_count": 46,
   "metadata": {},
   "outputs": [
    {
     "name": "stdout",
     "output_type": "stream",
     "text": [
      "[0.38538811 0.04643511 0.32073409 0.11423543 0.13320726]\n"
     ]
    }
   ],
   "source": [
    "# Visualizando a Importância de Cada Variável Preditora para a Variável Target (A Ser Prevista)\n",
    "\n",
    "print(modelo_fi.feature_importances_)"
   ]
  },
  {
   "cell_type": "code",
   "execution_count": 47,
   "metadata": {},
   "outputs": [],
   "source": [
    "# Criando um Dataset com os Pesos de cada Variável Preditora Quanto à sua Importância \n",
    "\n",
    "var_relevantes = pd.DataFrame(modelo_fi.feature_importances_, index = X.columns, columns = ['Importancia']).sort_values('Importancia', ascending=False)"
   ]
  },
  {
   "cell_type": "code",
   "execution_count": 48,
   "metadata": {},
   "outputs": [
    {
     "data": {
      "text/html": [
       "<div>\n",
       "<style scoped>\n",
       "    .dataframe tbody tr th:only-of-type {\n",
       "        vertical-align: middle;\n",
       "    }\n",
       "\n",
       "    .dataframe tbody tr th {\n",
       "        vertical-align: top;\n",
       "    }\n",
       "\n",
       "    .dataframe thead th {\n",
       "        text-align: right;\n",
       "    }\n",
       "</style>\n",
       "<table border=\"1\" class=\"dataframe\">\n",
       "  <thead>\n",
       "    <tr style=\"text-align: right;\">\n",
       "      <th></th>\n",
       "      <th>Importancia</th>\n",
       "    </tr>\n",
       "  </thead>\n",
       "  <tbody>\n",
       "    <tr>\n",
       "      <th>Populacao_do_Municipio</th>\n",
       "      <td>0.385388</td>\n",
       "    </tr>\n",
       "    <tr>\n",
       "      <th>Quantidade_de_Trabalhadores_do_Empregador</th>\n",
       "      <td>0.320734</td>\n",
       "    </tr>\n",
       "    <tr>\n",
       "      <th>Quantidade_de_Ementas_de_SST_Fiscalizadas</th>\n",
       "      <td>0.133207</td>\n",
       "    </tr>\n",
       "    <tr>\n",
       "      <th>Quantidade_de_Ementas_de_Legislação_Fiscalizadas</th>\n",
       "      <td>0.114235</td>\n",
       "    </tr>\n",
       "    <tr>\n",
       "      <th>Numero_de_AFTs_na_Equipe</th>\n",
       "      <td>0.046435</td>\n",
       "    </tr>\n",
       "  </tbody>\n",
       "</table>\n",
       "</div>"
      ],
      "text/plain": [
       "                                                  Importancia\n",
       "Populacao_do_Municipio                               0.385388\n",
       "Quantidade_de_Trabalhadores_do_Empregador            0.320734\n",
       "Quantidade_de_Ementas_de_SST_Fiscalizadas            0.133207\n",
       "Quantidade_de_Ementas_de_Legislação_Fiscalizadas     0.114235\n",
       "Numero_de_AFTs_na_Equipe                             0.046435"
      ]
     },
     "execution_count": 48,
     "metadata": {},
     "output_type": "execute_result"
    }
   ],
   "source": [
    "# Visualizando o Dataset\n",
    "\n",
    "var_relevantes"
   ]
  },
  {
   "cell_type": "code",
   "execution_count": 49,
   "metadata": {},
   "outputs": [
    {
     "data": {
      "text/plain": [
       "<matplotlib.axes._subplots.AxesSubplot at 0x1d8cc659588>"
      ]
     },
     "execution_count": 49,
     "metadata": {},
     "output_type": "execute_result"
    },
    {
     "data": {
      "image/png": "[encoded data removed]",
      "text/plain": [
       "<Figure size 432x288 with 1 Axes>"
      ]
     },
     "metadata": {
      "needs_background": "light"
     },
     "output_type": "display_data"
    }
   ],
   "source": [
    "# Visualizando o Dataset em Forma de Gráfico\n",
    "\n",
    "var_relevantes.plot(kind='bar', color='purple')"
   ]
  },
  {
   "cell_type": "markdown",
   "metadata": {},
   "source": [
    "### <font color='black'>Convertendo a Variável Target (A Ser Prevista) do Tipo Numérico para Categórico (Classe)</font>"
   ]
  },
  {
   "cell_type": "code",
   "execution_count": 50,
   "metadata": {},
   "outputs": [],
   "source": [
    "# Convertendo a Variável (Coluna) \"Empregador_com_Irregularidade\" do Dataset Final do Tipo Numérico para o Tipo Categórico (Classe)\n",
    "\n",
    "dataset_final['Empregador_com_Irregularidade'] = dataset_final.Empregador_com_Irregularidade.astype('category') "
   ]
  },
  {
   "cell_type": "code",
   "execution_count": 51,
   "metadata": {},
   "outputs": [
    {
     "data": {
      "text/plain": [
       "CategoricalDtype(categories=[0, 1], ordered=False)"
      ]
     },
     "execution_count": 51,
     "metadata": {},
     "output_type": "execute_result"
    }
   ],
   "source": [
    "# Verificando o Tipo de Dado da Variável (Coluna) \"Empregador_com_Irregularidade\" do Dataset Final\n",
    "\n",
    "dataset_final.Empregador_com_Irregularidade.dtypes"
   ]
  },
  {
   "cell_type": "code",
   "execution_count": 52,
   "metadata": {},
   "outputs": [
    {
     "data": {
      "text/plain": [
       "Populacao_do_Municipio                                 int64\n",
       "Numero_de_AFTs_na_Equipe                               int64\n",
       "Quantidade_de_Trabalhadores_do_Empregador              int64\n",
       "Quantidade_de_Ementas_de_Legislação_Fiscalizadas       int64\n",
       "Quantidade_de_Ementas_de_SST_Fiscalizadas              int64\n",
       "Empregador_com_Irregularidade                       category\n",
       "dtype: object"
      ]
     },
     "execution_count": 52,
     "metadata": {},
     "output_type": "execute_result"
    }
   ],
   "source": [
    "# Verificando Todos os Tipos de Dados do Dataset Final\n",
    "\n",
    "dataset_final.dtypes"
   ]
  },
  {
   "cell_type": "markdown",
   "metadata": {},
   "source": [
    "### <font color='black'>Realizando Outras Análises dos Dados</font>"
   ]
  },
  {
   "cell_type": "code",
   "execution_count": 53,
   "metadata": {},
   "outputs": [
    {
     "data": {
      "text/html": [
       "<div>\n",
       "<style scoped>\n",
       "    .dataframe tbody tr th:only-of-type {\n",
       "        vertical-align: middle;\n",
       "    }\n",
       "\n",
       "    .dataframe tbody tr th {\n",
       "        vertical-align: top;\n",
       "    }\n",
       "\n",
       "    .dataframe thead th {\n",
       "        text-align: right;\n",
       "    }\n",
       "</style>\n",
       "<table border=\"1\" class=\"dataframe\">\n",
       "  <thead>\n",
       "    <tr style=\"text-align: right;\">\n",
       "      <th></th>\n",
       "      <th>Populacao_do_Municipio</th>\n",
       "      <th>Numero_de_AFTs_na_Equipe</th>\n",
       "      <th>Quantidade_de_Trabalhadores_do_Empregador</th>\n",
       "      <th>Quantidade_de_Ementas_de_Legislação_Fiscalizadas</th>\n",
       "      <th>Quantidade_de_Ementas_de_SST_Fiscalizadas</th>\n",
       "    </tr>\n",
       "  </thead>\n",
       "  <tbody>\n",
       "    <tr>\n",
       "      <th>count</th>\n",
       "      <td>5.395600e+04</td>\n",
       "      <td>53956.000000</td>\n",
       "      <td>53956.000000</td>\n",
       "      <td>53956.000000</td>\n",
       "      <td>53956.000000</td>\n",
       "    </tr>\n",
       "    <tr>\n",
       "      <th>mean</th>\n",
       "      <td>1.438603e+06</td>\n",
       "      <td>1.630588</td>\n",
       "      <td>160.829917</td>\n",
       "      <td>3.808381</td>\n",
       "      <td>5.809530</td>\n",
       "    </tr>\n",
       "    <tr>\n",
       "      <th>std</th>\n",
       "      <td>2.513905e+06</td>\n",
       "      <td>1.228238</td>\n",
       "      <td>2328.467321</td>\n",
       "      <td>4.695573</td>\n",
       "      <td>9.190176</td>\n",
       "    </tr>\n",
       "    <tr>\n",
       "      <th>min</th>\n",
       "      <td>1.118000e+03</td>\n",
       "      <td>1.000000</td>\n",
       "      <td>1.000000</td>\n",
       "      <td>0.000000</td>\n",
       "      <td>0.000000</td>\n",
       "    </tr>\n",
       "    <tr>\n",
       "      <th>25%</th>\n",
       "      <td>1.357830e+05</td>\n",
       "      <td>1.000000</td>\n",
       "      <td>5.000000</td>\n",
       "      <td>1.000000</td>\n",
       "      <td>0.000000</td>\n",
       "    </tr>\n",
       "    <tr>\n",
       "      <th>50%</th>\n",
       "      <td>4.447840e+05</td>\n",
       "      <td>1.000000</td>\n",
       "      <td>13.000000</td>\n",
       "      <td>2.000000</td>\n",
       "      <td>1.000000</td>\n",
       "    </tr>\n",
       "    <tr>\n",
       "      <th>75%</th>\n",
       "      <td>1.488252e+06</td>\n",
       "      <td>2.000000</td>\n",
       "      <td>44.000000</td>\n",
       "      <td>5.000000</td>\n",
       "      <td>9.000000</td>\n",
       "    </tr>\n",
       "    <tr>\n",
       "      <th>max</th>\n",
       "      <td>1.232523e+07</td>\n",
       "      <td>26.000000</td>\n",
       "      <td>288236.000000</td>\n",
       "      <td>72.000000</td>\n",
       "      <td>200.000000</td>\n",
       "    </tr>\n",
       "  </tbody>\n",
       "</table>\n",
       "</div>"
      ],
      "text/plain": [
       "       Populacao_do_Municipio  Numero_de_AFTs_na_Equipe  \\\n",
       "count            5.395600e+04              53956.000000   \n",
       "mean             1.438603e+06                  1.630588   \n",
       "std              2.513905e+06                  1.228238   \n",
       "min              1.118000e+03                  1.000000   \n",
       "25%              1.357830e+05                  1.000000   \n",
       "50%              4.447840e+05                  1.000000   \n",
       "75%              1.488252e+06                  2.000000   \n",
       "max              1.232523e+07                 26.000000   \n",
       "\n",
       "       Quantidade_de_Trabalhadores_do_Empregador  \\\n",
       "count                               53956.000000   \n",
       "mean                                  160.829917   \n",
       "std                                  2328.467321   \n",
       "min                                     1.000000   \n",
       "25%                                     5.000000   \n",
       "50%                                    13.000000   \n",
       "75%                                    44.000000   \n",
       "max                                288236.000000   \n",
       "\n",
       "       Quantidade_de_Ementas_de_Legislação_Fiscalizadas  \\\n",
       "count                                      53956.000000   \n",
       "mean                                           3.808381   \n",
       "std                                            4.695573   \n",
       "min                                            0.000000   \n",
       "25%                                            1.000000   \n",
       "50%                                            2.000000   \n",
       "75%                                            5.000000   \n",
       "max                                           72.000000   \n",
       "\n",
       "       Quantidade_de_Ementas_de_SST_Fiscalizadas  \n",
       "count                               53956.000000  \n",
       "mean                                    5.809530  \n",
       "std                                     9.190176  \n",
       "min                                     0.000000  \n",
       "25%                                     0.000000  \n",
       "50%                                     1.000000  \n",
       "75%                                     9.000000  \n",
       "max                                   200.000000  "
      ]
     },
     "execution_count": 53,
     "metadata": {},
     "output_type": "execute_result"
    }
   ],
   "source": [
    "# Analisando as Principais Informações Estatísticas do Dataset Final\n",
    "\n",
    "dataset_final.describe()"
   ]
  },
  {
   "cell_type": "code",
   "execution_count": 54,
   "metadata": {},
   "outputs": [
    {
     "data": {
      "text/plain": [
       "1    35123\n",
       "0    18833\n",
       "Name: Empregador_com_Irregularidade, dtype: int64"
      ]
     },
     "execution_count": 54,
     "metadata": {},
     "output_type": "execute_result"
    }
   ],
   "source": [
    "# Verificando a Relação de Distribuição entre as Classes da Variável Target (A Ser Prevista)\n",
    "\n",
    "dataset_final.Empregador_com_Irregularidade.value_counts()"
   ]
  },
  {
   "cell_type": "code",
   "execution_count": 55,
   "metadata": {},
   "outputs": [
    {
     "name": "stdout",
     "output_type": "stream",
     "text": [
      "Número de Empregadores Irregulares: 35123 (65.10%)\n",
      "Número de Empregadores Regulares:   18833 (34.90%)\n"
     ]
    }
   ],
   "source": [
    "# Verificando a Proporção Referente à Relação de Distribuição entre as Classes da Variável Target (A Ser Prevista)\n",
    "\n",
    "num_true = len(dataset_final.loc[dataset_final['Empregador_com_Irregularidade'] == 1])\n",
    "num_false = len(dataset_final.loc[dataset_final['Empregador_com_Irregularidade'] == 0])\n",
    "\n",
    "print(\"Número de Empregadores Irregulares: {0} ({1:2.2f}%)\".format(num_true, (num_true/ (num_true + num_false)) * 100))\n",
    "print(\"Número de Empregadores Regulares:   {0} ({1:2.2f}%)\".format(num_false, (num_false/ (num_true + num_false)) * 100))"
   ]
  },
  {
   "cell_type": "code",
   "execution_count": 56,
   "metadata": {},
   "outputs": [
    {
     "data": {
      "image/png": "[encoded data removed]",
      "text/plain": [
       "<Figure size 432x288 with 1 Axes>"
      ]
     },
     "metadata": {
      "needs_background": "light"
     },
     "output_type": "display_data"
    }
   ],
   "source": [
    "# Visualizando a Proporção Referente à Relação de Distribuição entre as Classes da Variável Target (A Ser Prevista) em Forma de Gráfico\n",
    "\n",
    "grafico = sns.countplot(x=\"Empregador_com_Irregularidade\", palette=['g','r'], data=dataset_final)"
   ]
  },
  {
   "cell_type": "markdown",
   "metadata": {},
   "source": [
    "## <font color='purple'>Iniciando a Construção do Modelo Preditivo de Machine Learning</font>\n",
    "\n",
    "### <font color='black'>1 - Definindo as Variáveis Preditoras e Target (A Ser Prevista) do Modelo</font>"
   ]
  },
  {
   "cell_type": "code",
   "execution_count": 57,
   "metadata": {},
   "outputs": [],
   "source": [
    "# Definindo as Variáveis Preditoras do Modelo (Feature Selection)\n",
    "\n",
    "var_pred = ['Populacao_do_Municipio', 'Numero_de_AFTs_na_Equipe', 'Quantidade_de_Trabalhadores_do_Empregador', 'Quantidade_de_Ementas_de_Legislação_Fiscalizadas', 'Quantidade_de_Ementas_de_SST_Fiscalizadas']"
   ]
  },
  {
   "cell_type": "code",
   "execution_count": 58,
   "metadata": {},
   "outputs": [],
   "source": [
    "# Definindo a Variável Target (A ser Prevista) do Modelo (Feature Selection)\n",
    "\n",
    "var_prev = ['Empregador_com_Irregularidade']"
   ]
  },
  {
   "cell_type": "code",
   "execution_count": 59,
   "metadata": {},
   "outputs": [],
   "source": [
    "# Coletando os Valores das Variáveis \"Preditoras\" (X)\n",
    "\n",
    "# Coletando os Valores da Variável \"A Ser Prevista (Target)\" (Y)\n",
    "\n",
    "X = dataset_final[var_pred].values\n",
    "Y = dataset_final[var_prev].values"
   ]
  },
  {
   "cell_type": "code",
   "execution_count": 60,
   "metadata": {},
   "outputs": [
    {
     "data": {
      "text/plain": [
       "array([[  668949,        1,     1569,        2,        0],\n",
       "       [ 1499641,        2,      131,        9,        8],\n",
       "       [12325232,        1,        1,        1,        0],\n",
       "       ...,\n",
       "       [  230371,        1,        2,        2,        0],\n",
       "       [ 1108975,        3,        8,        0,       17],\n",
       "       [ 1108975,        3,       64,        0,       17]], dtype=int64)"
      ]
     },
     "execution_count": 60,
     "metadata": {},
     "output_type": "execute_result"
    }
   ],
   "source": [
    "# Visualizando o Conjunto das Variáveis \"Preditoras\" (X)\n",
    "\n",
    "X"
   ]
  },
  {
   "cell_type": "code",
   "execution_count": 61,
   "metadata": {},
   "outputs": [
    {
     "data": {
      "text/plain": [
       "array([[1],\n",
       "       [1],\n",
       "       [1],\n",
       "       ...,\n",
       "       [0],\n",
       "       [1],\n",
       "       [1]], dtype=int64)"
      ]
     },
     "execution_count": 61,
     "metadata": {},
     "output_type": "execute_result"
    }
   ],
   "source": [
    "# Visualizando o Conjunto da Variável \"A Ser Prevista (Target)\" (Y)\n",
    "\n",
    "Y"
   ]
  },
  {
   "cell_type": "markdown",
   "metadata": {},
   "source": [
    "### <font color='black'>2 - Dividindo os Dados entre Treino e Teste</font>\n",
    "\n",
    "Dados de Treino: 70% (Treinamento do Algoritmo e Criação do Modelo de Predição)\n",
    "\n",
    "Dados de Teste: 30% (Teste e Avaliação do Modelo de Predição)"
   ]
  },
  {
   "cell_type": "code",
   "execution_count": 62,
   "metadata": {},
   "outputs": [
    {
     "data": {
      "text/plain": [
       "'0.24.2'"
      ]
     },
     "execution_count": 62,
     "metadata": {},
     "output_type": "execute_result"
    }
   ],
   "source": [
    "# Importando o Módulo Scikit Learn e Verificando sua Versão\n",
    "\n",
    "import sklearn as sk\n",
    "sk.__version__"
   ]
  },
  {
   "cell_type": "code",
   "execution_count": 63,
   "metadata": {},
   "outputs": [],
   "source": [
    "# Importando a Função de Divisão Entre Treino e Teste do Pacote Model Selection\n",
    "\n",
    "from sklearn.model_selection import train_test_split"
   ]
  },
  {
   "cell_type": "code",
   "execution_count": 64,
   "metadata": {},
   "outputs": [],
   "source": [
    "# Definindo a Taxa de Divisão (70% Treino / 30% Teste)\n",
    "\n",
    "taxa_teste = 0.30"
   ]
  },
  {
   "cell_type": "code",
   "execution_count": 65,
   "metadata": {},
   "outputs": [],
   "source": [
    "# Chamando a Função Train_Test_Split\n",
    "\n",
    "# Criando os Dados de Treino e de Teste\n",
    "\n",
    "X_treino, X_teste, Y_treino, Y_teste = train_test_split(X, Y, test_size = taxa_teste, random_state = 42)"
   ]
  },
  {
   "cell_type": "code",
   "execution_count": 66,
   "metadata": {},
   "outputs": [
    {
     "name": "stdout",
     "output_type": "stream",
     "text": [
      "Dados de Treino: 70.00%\n",
      "Dados de Teste: 30.00%\n"
     ]
    }
   ],
   "source": [
    "# Verificando os Resultados\n",
    "\n",
    "print(\"Dados de Treino: {0:0.2f}%\".format((len(X_treino)/len(dataset_final.index)) * 100))\n",
    "print(\"Dados de Teste: {0:0.2f}%\".format((len(X_teste)/len(dataset_final.index)) * 100))"
   ]
  },
  {
   "cell_type": "code",
   "execution_count": 67,
   "metadata": {},
   "outputs": [
    {
     "data": {
      "text/plain": [
       "array([[ 868075,       1,       6,       1,      20],\n",
       "       [ 664908,       2,    1276,       8,       0],\n",
       "       [ 211508,       1,     144,       8,       0],\n",
       "       ...,\n",
       "       [ 868075,       3,     545,       0,      14],\n",
       "       [ 699097,       1,     152,       4,      28],\n",
       "       [3055149,       1,       1,       1,       0]], dtype=int64)"
      ]
     },
     "execution_count": 67,
     "metadata": {},
     "output_type": "execute_result"
    }
   ],
   "source": [
    "# Visualizando o Conjunto de Dados de Treino\n",
    "\n",
    "X_treino"
   ]
  },
  {
   "cell_type": "code",
   "execution_count": 68,
   "metadata": {},
   "outputs": [
    {
     "data": {
      "text/plain": [
       "array([[ 573285,       1,       6,       1,      11],\n",
       "       [ 365855,       2,    1071,       1,       0],\n",
       "       [ 619609,       1,       5,      12,       0],\n",
       "       ...,\n",
       "       [ 391772,       2,       2,       3,       0],\n",
       "       [2521564,       2,       7,      10,       7],\n",
       "       [ 283542,       1,      13,      30,       7]], dtype=int64)"
      ]
     },
     "execution_count": 68,
     "metadata": {},
     "output_type": "execute_result"
    }
   ],
   "source": [
    "# Visualizando o Conjunto de Dados de Teste\n",
    "\n",
    "X_teste"
   ]
  },
  {
   "cell_type": "markdown",
   "metadata": {},
   "source": [
    "### 3 - Verificando as Divisões"
   ]
  },
  {
   "cell_type": "code",
   "execution_count": 69,
   "metadata": {},
   "outputs": [
    {
     "name": "stdout",
     "output_type": "stream",
     "text": [
      "Dados Originais: Empregadores Irregulares: 35123 (65.10%)\n",
      "Dados Originais: Empregadores Regulares: 18833 (34.90%)\n",
      "\n",
      "Dados de Treino: Empregadores Irregulares: 24539 (64.97%)\n",
      "Dados de Treino: Empregadores Regulares: 13230 (35.03%)\n",
      "\n",
      "Dados de Teste: Empregadores Irregulares: 10584 (65.39%)\n",
      "Dados de Teste: Empregadores Regulares: 5603 (34.61%)\n"
     ]
    }
   ],
   "source": [
    "# Verificando a Relação de Proporção Entre os Dados Originais, de Treino e de Teste \n",
    "\n",
    "print(\"Dados Originais: Empregadores Irregulares: {0} ({1:0.2f}%)\".format(len(dataset_final.loc[dataset_final['Empregador_com_Irregularidade'] == 1]), \n",
    "                                                  (len(dataset_final.loc[dataset_final['Empregador_com_Irregularidade'] ==1])/len(dataset_final.index) * 100)))\n",
    "\n",
    "print(\"Dados Originais: Empregadores Regulares: {0} ({1:0.2f}%)\".format(len(dataset_final.loc[dataset_final['Empregador_com_Irregularidade'] == 0]), \n",
    "                                                (len(dataset_final.loc[dataset_final['Empregador_com_Irregularidade'] == 0])/len(dataset_final.index) * 100)))\n",
    "print(\"\")\n",
    "print(\"Dados de Treino: Empregadores Irregulares: {0} ({1:0.2f}%)\".format(len(Y_treino[Y_treino[:] == 1]), \n",
    "                                                  (len(Y_treino[Y_treino[:] == 1])/len(Y_treino) * 100)))\n",
    "\n",
    "print(\"Dados de Treino: Empregadores Regulares: {0} ({1:0.2f}%)\".format(len(Y_treino[Y_treino[:] == 0]), \n",
    "                                                (len(Y_treino[Y_treino[:] == 0])/len(Y_treino) * 100)))\n",
    "print(\"\")\n",
    "print(\"Dados de Teste: Empregadores Irregulares: {0} ({1:0.2f}%)\".format(len(Y_teste[Y_teste[:] == 1]), \n",
    "                                                 (len(Y_teste[Y_teste[:] == 1])/len(Y_teste) * 100)))\n",
    "\n",
    "print(\"Dados de Teste: Empregadores Regulares: {0} ({1:0.2f}%)\".format(len(Y_teste[Y_teste[:] == 0]), \n",
    "                                               (len(Y_teste[Y_teste[:] == 0])/len(Y_teste) * 100)))"
   ]
  },
  {
   "cell_type": "markdown",
   "metadata": {},
   "source": [
    "### <font color='black'>4 - Construindo e Treinando Modelos</font><font color='brown'> com o Método nº 1: Sem Balanceamento dos Dados:</font>\n",
    " \n",
    " #### <font color='black'>Método nº 1 - Sem Balanceamento dos Dados</font>\n",
    " \n"
   ]
  },
  {
   "cell_type": "markdown",
   "metadata": {},
   "source": [
    "## 4.1 - Modelo Preditivo nº 1 - Naive Bayes\n",
    "\n",
    "### Criando e Treinando"
   ]
  },
  {
   "cell_type": "code",
   "execution_count": 70,
   "metadata": {},
   "outputs": [],
   "source": [
    "# Importando o Algoritmo de Classificação (Modelo) Naive Bayes\n",
    "\n",
    "from sklearn.naive_bayes import GaussianNB"
   ]
  },
  {
   "cell_type": "code",
   "execution_count": 71,
   "metadata": {},
   "outputs": [],
   "source": [
    "# Criando o Modelo Preditivo nº 1 - Naive Bayes\n",
    "\n",
    "modelo_1_metodo_1 = GaussianNB()"
   ]
  },
  {
   "cell_type": "code",
   "execution_count": 72,
   "metadata": {},
   "outputs": [
    {
     "data": {
      "text/plain": [
       "GaussianNB()"
      ]
     },
     "execution_count": 72,
     "metadata": {},
     "output_type": "execute_result"
    }
   ],
   "source": [
    "# Treinando o Modelo Preditivo nº 1 - Naive Bayes\n",
    "\n",
    "modelo_1_metodo_1.fit(X_treino, Y_treino.ravel())"
   ]
  },
  {
   "cell_type": "markdown",
   "metadata": {},
   "source": [
    "### Testando"
   ]
  },
  {
   "cell_type": "code",
   "execution_count": 73,
   "metadata": {},
   "outputs": [],
   "source": [
    "from sklearn import metrics"
   ]
  },
  {
   "cell_type": "code",
   "execution_count": 74,
   "metadata": {},
   "outputs": [],
   "source": [
    "# Fazendo as Previsões com o Modelo Passando, como Entrada, os Valores das Variáveis Preditoras\n",
    "\n",
    "previsao_modelo_1_metodo_1 = modelo_1_metodo_1.predict(X_teste)"
   ]
  },
  {
   "cell_type": "markdown",
   "metadata": {},
   "source": [
    "### Avaliando\n",
    "\n",
    "### Verificando a Acurácia e Outras Métricas\n",
    "\n",
    "#### Matriz de Confusão e Relatório de Classificação"
   ]
  },
  {
   "cell_type": "code",
   "execution_count": 75,
   "metadata": {},
   "outputs": [
    {
     "data": {
      "image/jpeg": "[encoded data removed]",
      "text/plain": [
       "<IPython.core.display.Image object>"
      ]
     },
     "execution_count": 75,
     "metadata": {},
     "output_type": "execute_result"
    }
   ],
   "source": [
    "# Imprimindo o Diagrama da Matriz de Confusão\n",
    "\n",
    "from IPython.display import Image\n",
    "\n",
    "Image('Matriz_de_Confusao.jpg')"
   ]
  },
  {
   "cell_type": "code",
   "execution_count": 76,
   "metadata": {},
   "outputs": [
    {
     "name": "stdout",
     "output_type": "stream",
     "text": [
      "Exatidão (Acurácia): 0.6519\n",
      "\n"
     ]
    }
   ],
   "source": [
    "# Comparando os Valores da Variável Target Esperados (Y_teste) com os Valores da Variável Target Realmente Previstos pelo Modelo (previsao_modelo_1_metodo_1)\n",
    "\n",
    "print(\"Exatidão (Acurácia): {0:.4f}\".format(metrics.accuracy_score(Y_teste, previsao_modelo_1_metodo_1)))\n",
    "print()"
   ]
  },
  {
   "cell_type": "code",
   "execution_count": 77,
   "metadata": {},
   "outputs": [
    {
     "name": "stdout",
     "output_type": "stream",
     "text": [
      "Modelo Preditivo nº 1 - Naive Bayes\n",
      "\n",
      "Matriz de Confusão:\n",
      "\n",
      "[[10505    79]\n",
      " [ 5555    48]]\n",
      "\n",
      "Relatório de Classificação:\n",
      "\n",
      "              precision    recall  f1-score   support\n",
      "\n",
      "           1       0.65      0.99      0.79     10584\n",
      "           0       0.38      0.01      0.02      5603\n",
      "\n",
      "    accuracy                           0.65     16187\n",
      "   macro avg       0.52      0.50      0.40     16187\n",
      "weighted avg       0.56      0.65      0.52     16187\n",
      "\n"
     ]
    }
   ],
   "source": [
    "# Verificando a Matriz de Confusão e o Relatório de Classificação\n",
    "\n",
    "print(\"Modelo Preditivo nº 1 - Naive Bayes\")\n",
    "print(\"\")\n",
    "\n",
    "print(\"Matriz de Confusão:\")\n",
    "print(\"\")\n",
    "print(\"{0}\".format(metrics.confusion_matrix(Y_teste, previsao_modelo_1_metodo_1, labels = [1, 0])))\n",
    "print(\"\")\n",
    "\n",
    "print(\"Relatório de Classificação:\")\n",
    "print(\"\")\n",
    "print(metrics.classification_report(Y_teste, previsao_modelo_1_metodo_1, labels = [1, 0]))"
   ]
  },
  {
   "cell_type": "markdown",
   "metadata": {},
   "source": [
    "## 4.2 - Modelo Preditivo nº 2 - Random Forest\n",
    "\n",
    "### Criando e Treinando"
   ]
  },
  {
   "cell_type": "code",
   "execution_count": 78,
   "metadata": {},
   "outputs": [],
   "source": [
    "# Importando o Algoritmo de Classificação (Modelo) Random Forest\n",
    "\n",
    "from sklearn.ensemble import RandomForestClassifier"
   ]
  },
  {
   "cell_type": "code",
   "execution_count": 79,
   "metadata": {},
   "outputs": [],
   "source": [
    "# Criando o Modelo Preditivo nº 2 - Random Forest\n",
    "\n",
    "modelo_2_metodo_1 = RandomForestClassifier(random_state = 42)"
   ]
  },
  {
   "cell_type": "code",
   "execution_count": 80,
   "metadata": {},
   "outputs": [
    {
     "data": {
      "text/plain": [
       "RandomForestClassifier(random_state=42)"
      ]
     },
     "execution_count": 80,
     "metadata": {},
     "output_type": "execute_result"
    }
   ],
   "source": [
    "# Treinando o Modelo Preditivo nº 2 - Random Forest\n",
    "\n",
    "modelo_2_metodo_1.fit(X_treino, Y_treino.ravel())"
   ]
  },
  {
   "cell_type": "markdown",
   "metadata": {},
   "source": [
    "### Testando"
   ]
  },
  {
   "cell_type": "code",
   "execution_count": 81,
   "metadata": {},
   "outputs": [],
   "source": [
    "# Fazendo as Previsões com o Modelo Passando, como Entrada, os Valores das Variáveis Preditoras\n",
    "\n",
    "previsao_modelo_2_metodo_1 = modelo_2_metodo_1.predict(X_teste)"
   ]
  },
  {
   "cell_type": "markdown",
   "metadata": {},
   "source": [
    "### Avaliando\n",
    "\n",
    "### Verificando a Acurácia e Outras Métricas\n",
    "\n",
    "#### Matriz de Confusão e Relatório de Classificação"
   ]
  },
  {
   "cell_type": "code",
   "execution_count": 82,
   "metadata": {},
   "outputs": [
    {
     "data": {
      "image/jpeg": "[encoded data removed]",
      "text/plain": [
       "<IPython.core.display.Image object>"
      ]
     },
     "execution_count": 82,
     "metadata": {},
     "output_type": "execute_result"
    }
   ],
   "source": [
    "# Imprimindo o Diagrama da Matriz de Confusão\n",
    "\n",
    "from IPython.display import Image\n",
    "\n",
    "Image('Matriz_de_Confusao.jpg')"
   ]
  },
  {
   "cell_type": "code",
   "execution_count": 83,
   "metadata": {},
   "outputs": [
    {
     "name": "stdout",
     "output_type": "stream",
     "text": [
      "Exatidão (Acurácia): 0.7316\n",
      "\n"
     ]
    }
   ],
   "source": [
    "# Comparando os Valores da Variável Target Esperados (Y_teste) com os Valores da Variável Target Realmente Previstas pelo Modelo (previsao_modelo_2_metodo_1)\n",
    "\n",
    "print(\"Exatidão (Acurácia): {0:.4f}\".format(metrics.accuracy_score(Y_teste, previsao_modelo_2_metodo_1)))\n",
    "print()"
   ]
  },
  {
   "cell_type": "code",
   "execution_count": 84,
   "metadata": {},
   "outputs": [
    {
     "name": "stdout",
     "output_type": "stream",
     "text": [
      "Modelo Preditivo nº 2 - Random Forest\n",
      "\n",
      "Matriz de Confusão:\n",
      "\n",
      "[[8712 1872]\n",
      " [2472 3131]]\n",
      "\n",
      "Relatório de Classificação:\n",
      "\n",
      "              precision    recall  f1-score   support\n",
      "\n",
      "           1       0.78      0.82      0.80     10584\n",
      "           0       0.63      0.56      0.59      5603\n",
      "\n",
      "    accuracy                           0.73     16187\n",
      "   macro avg       0.70      0.69      0.70     16187\n",
      "weighted avg       0.73      0.73      0.73     16187\n",
      "\n"
     ]
    }
   ],
   "source": [
    "# Verificando a Matriz de Confusão e o Relatório de Classificação\n",
    "\n",
    "print(\"Modelo Preditivo nº 2 - Random Forest\")\n",
    "print(\"\")\n",
    "\n",
    "print(\"Matriz de Confusão:\")\n",
    "print(\"\")\n",
    "print(\"{0}\".format(metrics.confusion_matrix(Y_teste, previsao_modelo_2_metodo_1, labels = [1, 0])))\n",
    "print(\"\")\n",
    "\n",
    "print(\"Relatório de Classificação:\")\n",
    "print(\"\")\n",
    "print(metrics.classification_report(Y_teste, previsao_modelo_2_metodo_1, labels = [1, 0]))"
   ]
  },
  {
   "cell_type": "markdown",
   "metadata": {},
   "source": [
    "## 4.3 - Modelo Preditivo nº 3 - Regressão Logística\n",
    "\n",
    "### Criando e Treinando"
   ]
  },
  {
   "cell_type": "code",
   "execution_count": 85,
   "metadata": {},
   "outputs": [],
   "source": [
    "# Importando o Algoritmo de Classificação (Modelo) Regressão Logística\n",
    "\n",
    "from sklearn.linear_model import LogisticRegression"
   ]
  },
  {
   "cell_type": "code",
   "execution_count": 86,
   "metadata": {},
   "outputs": [],
   "source": [
    "# Criando o Modelo Preditivo nº 3 - Regressão Logística\n",
    "\n",
    "modelo_3_metodo_1 = LogisticRegression(C = 0.7, random_state = 42, max_iter = 1000)"
   ]
  },
  {
   "cell_type": "code",
   "execution_count": 87,
   "metadata": {},
   "outputs": [
    {
     "data": {
      "text/plain": [
       "LogisticRegression(C=0.7, max_iter=1000, random_state=42)"
      ]
     },
     "execution_count": 87,
     "metadata": {},
     "output_type": "execute_result"
    }
   ],
   "source": [
    "# Treinando o Modelo Preditivo nº 3 - Regressão Logística\n",
    "\n",
    "modelo_3_metodo_1.fit(X_treino, Y_treino.ravel())"
   ]
  },
  {
   "cell_type": "markdown",
   "metadata": {},
   "source": [
    "### Testando"
   ]
  },
  {
   "cell_type": "code",
   "execution_count": 88,
   "metadata": {},
   "outputs": [],
   "source": [
    "# Fazendo as Previsões com o Modelo Passando, como Entrada, os Valores das Variáveis Preditoras\n",
    "\n",
    "previsao_modelo_3_metodo_1 = modelo_3_metodo_1.predict(X_teste)"
   ]
  },
  {
   "cell_type": "markdown",
   "metadata": {},
   "source": [
    "### Avaliando\n",
    "\n",
    "### Verificando a Acurácia e Outras Métricas\n",
    "\n",
    "#### Matriz de Confusão e Relatório de Classificação"
   ]
  },
  {
   "cell_type": "code",
   "execution_count": 89,
   "metadata": {},
   "outputs": [
    {
     "data": {
      "image/jpeg": "[encoded data removed]",
      "text/plain": [
       "<IPython.core.display.Image object>"
      ]
     },
     "execution_count": 89,
     "metadata": {},
     "output_type": "execute_result"
    }
   ],
   "source": [
    "# Imprimindo o Diagrama da Matriz de Confusão\n",
    "\n",
    "from IPython.display import Image\n",
    "\n",
    "Image('Matriz_de_Confusao.jpg')"
   ]
  },
  {
   "cell_type": "code",
   "execution_count": 90,
   "metadata": {},
   "outputs": [
    {
     "name": "stdout",
     "output_type": "stream",
     "text": [
      "Exatidão (Acurácia): 0.6539\n",
      "\n"
     ]
    }
   ],
   "source": [
    "# Comparando os Valores da Variável Target Esperados (Y_teste) com os Valores da Variável Target Realmente Previstas pelo Modelo (previsao_modelo_3_metodo_1)\n",
    "\n",
    "print(\"Exatidão (Acurácia): {0:.4f}\".format(metrics.accuracy_score(Y_teste, previsao_modelo_3_metodo_1)))\n",
    "print()"
   ]
  },
  {
   "cell_type": "code",
   "execution_count": 91,
   "metadata": {},
   "outputs": [
    {
     "name": "stdout",
     "output_type": "stream",
     "text": [
      "Modelo Preditivo nº 3 - Regresão Logística\n",
      "\n",
      "Matriz de Confusão:\n",
      "\n",
      "[[10584     0]\n",
      " [ 5603     0]]\n",
      "\n",
      "Relatório de Classificação:\n",
      "\n",
      "              precision    recall  f1-score   support\n",
      "\n",
      "           1       0.65      1.00      0.79     10584\n",
      "           0       0.00      0.00      0.00      5603\n",
      "\n",
      "    accuracy                           0.65     16187\n",
      "   macro avg       0.33      0.50      0.40     16187\n",
      "weighted avg       0.43      0.65      0.52     16187\n",
      "\n"
     ]
    },
    {
     "name": "stderr",
     "output_type": "stream",
     "text": [
      "C:\\Users\\Lucas Prado\\anaconda3\\lib\\site-packages\\sklearn\\metrics\\_classification.py:1248: UndefinedMetricWarning: Precision and F-score are ill-defined and being set to 0.0 in labels with no predicted samples. Use `zero_division` parameter to control this behavior.\n",
      "  _warn_prf(average, modifier, msg_start, len(result))\n",
      "C:\\Users\\Lucas Prado\\anaconda3\\lib\\site-packages\\sklearn\\metrics\\_classification.py:1248: UndefinedMetricWarning: Precision and F-score are ill-defined and being set to 0.0 in labels with no predicted samples. Use `zero_division` parameter to control this behavior.\n",
      "  _warn_prf(average, modifier, msg_start, len(result))\n",
      "C:\\Users\\Lucas Prado\\anaconda3\\lib\\site-packages\\sklearn\\metrics\\_classification.py:1248: UndefinedMetricWarning: Precision and F-score are ill-defined and being set to 0.0 in labels with no predicted samples. Use `zero_division` parameter to control this behavior.\n",
      "  _warn_prf(average, modifier, msg_start, len(result))\n"
     ]
    }
   ],
   "source": [
    "# Verificando a Matriz de Confusão e o Relatório de Classificação\n",
    "\n",
    "print(\"Modelo Preditivo nº 3 - Regresão Logística\")\n",
    "print(\"\")\n",
    "\n",
    "print(\"Matriz de Confusão:\")\n",
    "print(\"\")\n",
    "print(\"{0}\".format(metrics.confusion_matrix(Y_teste, previsao_modelo_3_metodo_1, labels = [1, 0])))\n",
    "print(\"\")\n",
    "\n",
    "print(\"Relatório de Classificação:\")\n",
    "print(\"\")\n",
    "print(metrics.classification_report(Y_teste, previsao_modelo_3_metodo_1, labels = [1, 0]))"
   ]
  },
  {
   "cell_type": "markdown",
   "metadata": {},
   "source": [
    "### <font color='black'>5 - Construindo e Treinando Modelos</font><font color='green'> com o Método nº 2: Com Balanceamento dos Dados - Under Sampling:</font>"
   ]
  },
  {
   "cell_type": "markdown",
   "metadata": {},
   "source": [
    "#### <font color='black'>Método nº 2 - Aplicando o Under Sampling - Random Under Sampling</font>\n",
    "\n",
    "### <font color='black'>Equililbrando os Dados de Treino (50% para cada Classe):</font>"
   ]
  },
  {
   "cell_type": "code",
   "execution_count": 92,
   "metadata": {},
   "outputs": [],
   "source": [
    "import warnings\n",
    "warnings.filterwarnings(\"ignore\",category=DeprecationWarning )"
   ]
  },
  {
   "cell_type": "code",
   "execution_count": 93,
   "metadata": {},
   "outputs": [
    {
     "name": "stdout",
     "output_type": "stream",
     "text": [
      "Requirement already satisfied: imbalanced-learn in c:\\users\\lucas prado\\anaconda3\\lib\\site-packages (0.8.0)\n",
      "Requirement already satisfied: scikit-learn>=0.24 in c:\\users\\lucas prado\\anaconda3\\lib\\site-packages (from imbalanced-learn) (0.24.2)\n",
      "Requirement already satisfied: scipy>=0.19.1 in c:\\users\\lucas prado\\anaconda3\\lib\\site-packages (from imbalanced-learn) (1.4.1)\n",
      "Requirement already satisfied: joblib>=0.11 in c:\\users\\lucas prado\\anaconda3\\lib\\site-packages (from imbalanced-learn) (0.14.1)\n",
      "Requirement already satisfied: numpy>=1.13.3 in c:\\users\\lucas prado\\anaconda3\\lib\\site-packages (from imbalanced-learn) (1.18.1)\n",
      "Requirement already satisfied: threadpoolctl>=2.0.0 in c:\\users\\lucas prado\\anaconda3\\lib\\site-packages (from scikit-learn>=0.24->imbalanced-learn) (2.2.0)\n"
     ]
    }
   ],
   "source": [
    "!pip install imbalanced-learn"
   ]
  },
  {
   "cell_type": "code",
   "execution_count": 94,
   "metadata": {},
   "outputs": [],
   "source": [
    "from sklearn.metrics import accuracy_score, confusion_matrix, classification_report"
   ]
  },
  {
   "cell_type": "code",
   "execution_count": 95,
   "metadata": {},
   "outputs": [],
   "source": [
    "from imblearn.under_sampling import RandomUnderSampler "
   ]
  },
  {
   "cell_type": "code",
   "execution_count": 96,
   "metadata": {},
   "outputs": [],
   "source": [
    "us = RandomUnderSampler()"
   ]
  },
  {
   "cell_type": "code",
   "execution_count": 97,
   "metadata": {},
   "outputs": [],
   "source": [
    "X_treino_us, Y_treino_us = us.fit_resample(X_treino, Y_treino)"
   ]
  },
  {
   "cell_type": "code",
   "execution_count": 98,
   "metadata": {},
   "outputs": [
    {
     "name": "stdout",
     "output_type": "stream",
     "text": [
      "Dados de Treino: Empregadores Irregulares: 13230 (50.00%)\n",
      "Dados de Treino: Empregadores Regulares: 13230 (50.00%)\n"
     ]
    }
   ],
   "source": [
    "# Checando o Balanceamento e a Quantidade em Cada Classe da Variável Target (A Ser Prevista)\n",
    "\n",
    "print(\"Dados de Treino: Empregadores Irregulares: {0} ({1:0.2f}%)\".format(len(Y_treino_us[Y_treino_us[:] == 1]), \n",
    "                                                  (len(Y_treino_us[Y_treino_us[:] == 1])/len(Y_treino_us) * 100)))\n",
    "\n",
    "print(\"Dados de Treino: Empregadores Regulares: {0} ({1:0.2f}%)\".format(len(Y_treino_us[Y_treino_us[:] == 0]), \n",
    "                                                (len(Y_treino_us[Y_treino_us[:] == 0])/len(Y_treino_us) * 100)))"
   ]
  },
  {
   "cell_type": "code",
   "execution_count": 99,
   "metadata": {},
   "outputs": [
    {
     "data": {
      "image/png": "[encoded data removed]",
      "text/plain": [
       "<Figure size 432x288 with 1 Axes>"
      ]
     },
     "metadata": {
      "needs_background": "light"
     },
     "output_type": "display_data"
    }
   ],
   "source": [
    "# Verificando o Balanceamento em Forma de Gráfico\n",
    "\n",
    "ax = sns.countplot(x=Y_treino_us, palette=['g','r'])"
   ]
  },
  {
   "cell_type": "markdown",
   "metadata": {},
   "source": [
    "## 5.1 - Modelo Preditivo nº 1 - Naive Bayes\n",
    "\n",
    "### Criando e Treinando"
   ]
  },
  {
   "cell_type": "code",
   "execution_count": 100,
   "metadata": {},
   "outputs": [],
   "source": [
    "# Criando o Modelo Preditivo nº 1 - Naive Bayes\n",
    "\n",
    "modelo_1_metodo_2 = GaussianNB()"
   ]
  },
  {
   "cell_type": "code",
   "execution_count": 101,
   "metadata": {},
   "outputs": [
    {
     "data": {
      "text/plain": [
       "GaussianNB()"
      ]
     },
     "execution_count": 101,
     "metadata": {},
     "output_type": "execute_result"
    }
   ],
   "source": [
    "# Treinando o Modelo Preditivo nº 1 - Naive Bayes\n",
    "\n",
    "modelo_1_metodo_2.fit(X_treino_us, Y_treino_us.ravel())"
   ]
  },
  {
   "cell_type": "markdown",
   "metadata": {},
   "source": [
    "### Testando"
   ]
  },
  {
   "cell_type": "code",
   "execution_count": 102,
   "metadata": {},
   "outputs": [],
   "source": [
    "# Fazendo as Previsões com o Modelo Passando, como Entrada, os Valores das Variáveis Preditoras\n",
    "\n",
    "previsao_modelo_1_metodo_2 = modelo_1_metodo_2.predict(X_teste)"
   ]
  },
  {
   "cell_type": "markdown",
   "metadata": {},
   "source": [
    "### Avaliando\n",
    "\n",
    "### Verificando a Acurácia e Outras Métricas\n",
    "\n",
    "#### Matriz de Confusão e Relatório de Classificação"
   ]
  },
  {
   "cell_type": "code",
   "execution_count": 103,
   "metadata": {},
   "outputs": [
    {
     "data": {
      "image/jpeg": "[encoded data removed]",
      "text/plain": [
       "<IPython.core.display.Image object>"
      ]
     },
     "execution_count": 103,
     "metadata": {},
     "output_type": "execute_result"
    }
   ],
   "source": [
    "# Imprimindo o Diagrama da Matriz de Confusão\n",
    "\n",
    "from IPython.display import Image\n",
    "\n",
    "Image('Matriz_de_Confusao.jpg')"
   ]
  },
  {
   "cell_type": "code",
   "execution_count": 104,
   "metadata": {},
   "outputs": [
    {
     "name": "stdout",
     "output_type": "stream",
     "text": [
      "Exatidão (Acurácia): 0.6513\n",
      "\n"
     ]
    }
   ],
   "source": [
    "# Comparando os Valores da Variável Target Esperados (Y_teste) com os Valores da Variável Target Realmente Previstos pelo Modelo (previsao_modelo_1_metodo_2)\n",
    "\n",
    "print(\"Exatidão (Acurácia): {0:.4f}\".format(metrics.accuracy_score(Y_teste, previsao_modelo_1_metodo_2)))\n",
    "print()"
   ]
  },
  {
   "cell_type": "code",
   "execution_count": 105,
   "metadata": {},
   "outputs": [
    {
     "name": "stdout",
     "output_type": "stream",
     "text": [
      "Modelo Preditivo nº 1 - Naive Bayes\n",
      "\n",
      "Matriz de Confusão:\n",
      "\n",
      "[[10484   100]\n",
      " [ 5544    59]]\n",
      "\n",
      "Relatório de Classificação:\n",
      "\n",
      "              precision    recall  f1-score   support\n",
      "\n",
      "           1       0.65      0.99      0.79     10584\n",
      "           0       0.37      0.01      0.02      5603\n",
      "\n",
      "    accuracy                           0.65     16187\n",
      "   macro avg       0.51      0.50      0.40     16187\n",
      "weighted avg       0.56      0.65      0.52     16187\n",
      "\n"
     ]
    }
   ],
   "source": [
    "# Verificando a Matriz de Confusão e o Relatório de Classificação\n",
    "\n",
    "print(\"Modelo Preditivo nº 1 - Naive Bayes\")\n",
    "print(\"\")\n",
    "\n",
    "print(\"Matriz de Confusão:\")\n",
    "print(\"\")\n",
    "print(\"{0}\".format(metrics.confusion_matrix(Y_teste, previsao_modelo_1_metodo_2, labels = [1, 0])))\n",
    "print(\"\")\n",
    "\n",
    "print(\"Relatório de Classificação:\")\n",
    "print(\"\")\n",
    "print(metrics.classification_report(Y_teste, previsao_modelo_1_metodo_2, labels = [1, 0]))"
   ]
  },
  {
   "cell_type": "markdown",
   "metadata": {},
   "source": [
    "## 5.2 - Modelo Preditivo nº 2 - Random Forest\n",
    "\n",
    "### Criando e Treinando"
   ]
  },
  {
   "cell_type": "code",
   "execution_count": 106,
   "metadata": {},
   "outputs": [],
   "source": [
    "# Criando o Modelo Preditivo nº 2 - Random Forest\n",
    "\n",
    "modelo_2_metodo_2 = RandomForestClassifier(random_state = 42)"
   ]
  },
  {
   "cell_type": "code",
   "execution_count": 107,
   "metadata": {},
   "outputs": [
    {
     "data": {
      "text/plain": [
       "RandomForestClassifier(random_state=42)"
      ]
     },
     "execution_count": 107,
     "metadata": {},
     "output_type": "execute_result"
    }
   ],
   "source": [
    "# Treinando o Modelo Preditivo nº 2 - Random Forest\n",
    "\n",
    "modelo_2_metodo_2.fit(X_treino_us, Y_treino_us.ravel())"
   ]
  },
  {
   "cell_type": "markdown",
   "metadata": {},
   "source": [
    "### Testando"
   ]
  },
  {
   "cell_type": "code",
   "execution_count": 108,
   "metadata": {},
   "outputs": [],
   "source": [
    "# Fazendo as Previsões com o Modelo Passando, como Entrada, os Valores das Variáveis Preditoras\n",
    "\n",
    "previsao_modelo_2_metodo_2 = modelo_2_metodo_2.predict(X_teste)"
   ]
  },
  {
   "cell_type": "markdown",
   "metadata": {},
   "source": [
    "### Avaliando\n",
    "\n",
    "### Verificando a Acurácia e Outras Métricas\n",
    "\n",
    "#### Matriz de Confusão e Relatório de Classificação"
   ]
  },
  {
   "cell_type": "code",
   "execution_count": 109,
   "metadata": {},
   "outputs": [
    {
     "data": {
      "image/jpeg": "[encoded data removed]",
      "text/plain": [
       "<IPython.core.display.Image object>"
      ]
     },
     "execution_count": 109,
     "metadata": {},
     "output_type": "execute_result"
    }
   ],
   "source": [
    "# Imprimindo o Diagrama da Matriz de Confusão\n",
    "\n",
    "from IPython.display import Image\n",
    "\n",
    "Image('Matriz_de_Confusao.jpg')"
   ]
  },
  {
   "cell_type": "code",
   "execution_count": 110,
   "metadata": {},
   "outputs": [
    {
     "name": "stdout",
     "output_type": "stream",
     "text": [
      "Exatidão (Acurácia): 0.6942\n",
      "\n"
     ]
    }
   ],
   "source": [
    "# Comparando os Valores da Variável Target Esperados (Y_teste) com os Valores da Variável Target Realmente Previstas pelo Modelo (previsao_modelo_2_metodo_2)\n",
    "\n",
    "print(\"Exatidão (Acurácia): {0:.4f}\".format(metrics.accuracy_score(Y_teste, previsao_modelo_2_metodo_2)))\n",
    "print()"
   ]
  },
  {
   "cell_type": "code",
   "execution_count": 111,
   "metadata": {},
   "outputs": [
    {
     "name": "stdout",
     "output_type": "stream",
     "text": [
      "Modelo Preditivo nº 2 - Random Forest\n",
      "\n",
      "Matriz de Confusão:\n",
      "\n",
      "[[7274 3310]\n",
      " [1640 3963]]\n",
      "\n",
      "Relatório de Classificação:\n",
      "\n",
      "              precision    recall  f1-score   support\n",
      "\n",
      "           1       0.82      0.69      0.75     10584\n",
      "           0       0.54      0.71      0.62      5603\n",
      "\n",
      "    accuracy                           0.69     16187\n",
      "   macro avg       0.68      0.70      0.68     16187\n",
      "weighted avg       0.72      0.69      0.70     16187\n",
      "\n"
     ]
    }
   ],
   "source": [
    "# Verificando a Matriz de Confusão e o Relatório de Classificação\n",
    "\n",
    "print(\"Modelo Preditivo nº 2 - Random Forest\")\n",
    "print(\"\")\n",
    "\n",
    "print(\"Matriz de Confusão:\")\n",
    "print(\"\")\n",
    "print(\"{0}\".format(metrics.confusion_matrix(Y_teste, previsao_modelo_2_metodo_2, labels = [1, 0])))\n",
    "print(\"\")\n",
    "\n",
    "print(\"Relatório de Classificação:\")\n",
    "print(\"\")\n",
    "print(metrics.classification_report(Y_teste, previsao_modelo_2_metodo_2, labels = [1, 0]))"
   ]
  },
  {
   "cell_type": "markdown",
   "metadata": {},
   "source": [
    "## 5.3 - Modelo Preditivo nº 3 - Regressão Logística\n",
    "\n",
    "### Criando e Treinando"
   ]
  },
  {
   "cell_type": "code",
   "execution_count": 112,
   "metadata": {},
   "outputs": [],
   "source": [
    "# Criando o Modelo Preditivo nº 3 - Regressão Logística\n",
    "\n",
    "modelo_3_metodo_2 = LogisticRegression(C = 0.7, random_state = 42, max_iter = 1000)"
   ]
  },
  {
   "cell_type": "code",
   "execution_count": 113,
   "metadata": {},
   "outputs": [
    {
     "data": {
      "text/plain": [
       "LogisticRegression(C=0.7, max_iter=1000, random_state=42)"
      ]
     },
     "execution_count": 113,
     "metadata": {},
     "output_type": "execute_result"
    }
   ],
   "source": [
    "# Treinando o Modelo Preditivo nº 3 - Regressão Logística\n",
    "\n",
    "modelo_3_metodo_2.fit(X_treino_us, Y_treino_us.ravel())"
   ]
  },
  {
   "cell_type": "markdown",
   "metadata": {},
   "source": [
    "### Testando"
   ]
  },
  {
   "cell_type": "code",
   "execution_count": 114,
   "metadata": {},
   "outputs": [],
   "source": [
    "# Fazendo as Previsões com o Modelo Passando, como Entrada, os Valores das Variáveis Preditoras\n",
    "\n",
    "previsao_modelo_3_metodo_2 = modelo_3_metodo_2.predict(X_teste)"
   ]
  },
  {
   "cell_type": "markdown",
   "metadata": {},
   "source": [
    "### Avaliando\n",
    "\n",
    "### Verificando a Acurácia e Outras Métricas\n",
    "\n",
    "#### Matriz de Confusão e Relatório de Classificação"
   ]
  },
  {
   "cell_type": "code",
   "execution_count": 115,
   "metadata": {},
   "outputs": [
    {
     "data": {
      "image/jpeg": "[encoded data removed]",
      "text/plain": [
       "<IPython.core.display.Image object>"
      ]
     },
     "execution_count": 115,
     "metadata": {},
     "output_type": "execute_result"
    }
   ],
   "source": [
    "# Imprimindo o Diagrama da Matriz de Confusão\n",
    "\n",
    "from IPython.display import Image\n",
    "\n",
    "Image('Matriz_de_Confusao.jpg')"
   ]
  },
  {
   "cell_type": "code",
   "execution_count": 116,
   "metadata": {},
   "outputs": [
    {
     "name": "stdout",
     "output_type": "stream",
     "text": [
      "Exatidão (Acurácia): 0.3461\n",
      "\n"
     ]
    }
   ],
   "source": [
    "# Comparando os Valores da Variável Target Esperados (Y_teste) com os Valores da Variável Target Realmente Previstas pelo Modelo (previsao_modelo_3_metodo_2)\n",
    "\n",
    "print(\"Exatidão (Acurácia): {0:.4f}\".format(metrics.accuracy_score(Y_teste, previsao_modelo_3_metodo_2)))\n",
    "print()"
   ]
  },
  {
   "cell_type": "code",
   "execution_count": 117,
   "metadata": {},
   "outputs": [
    {
     "name": "stdout",
     "output_type": "stream",
     "text": [
      "Modelo Preditivo nº 3 - Regresão Logística\n",
      "\n",
      "Matriz de Confusão:\n",
      "\n",
      "[[    0 10584]\n",
      " [    0  5603]]\n",
      "\n",
      "Relatório de Classificação:\n",
      "\n",
      "              precision    recall  f1-score   support\n",
      "\n",
      "           1       0.00      0.00      0.00     10584\n",
      "           0       0.35      1.00      0.51      5603\n",
      "\n",
      "    accuracy                           0.35     16187\n",
      "   macro avg       0.17      0.50      0.26     16187\n",
      "weighted avg       0.12      0.35      0.18     16187\n",
      "\n"
     ]
    },
    {
     "name": "stderr",
     "output_type": "stream",
     "text": [
      "C:\\Users\\Lucas Prado\\anaconda3\\lib\\site-packages\\sklearn\\metrics\\_classification.py:1248: UndefinedMetricWarning: Precision and F-score are ill-defined and being set to 0.0 in labels with no predicted samples. Use `zero_division` parameter to control this behavior.\n",
      "  _warn_prf(average, modifier, msg_start, len(result))\n",
      "C:\\Users\\Lucas Prado\\anaconda3\\lib\\site-packages\\sklearn\\metrics\\_classification.py:1248: UndefinedMetricWarning: Precision and F-score are ill-defined and being set to 0.0 in labels with no predicted samples. Use `zero_division` parameter to control this behavior.\n",
      "  _warn_prf(average, modifier, msg_start, len(result))\n",
      "C:\\Users\\Lucas Prado\\anaconda3\\lib\\site-packages\\sklearn\\metrics\\_classification.py:1248: UndefinedMetricWarning: Precision and F-score are ill-defined and being set to 0.0 in labels with no predicted samples. Use `zero_division` parameter to control this behavior.\n",
      "  _warn_prf(average, modifier, msg_start, len(result))\n"
     ]
    }
   ],
   "source": [
    "# Verificando a Matriz de Confusão e o Relatório de Classificação\n",
    "\n",
    "print(\"Modelo Preditivo nº 3 - Regresão Logística\")\n",
    "print(\"\")\n",
    "\n",
    "print(\"Matriz de Confusão:\")\n",
    "print(\"\")\n",
    "print(\"{0}\".format(metrics.confusion_matrix(Y_teste, previsao_modelo_3_metodo_2, labels = [1, 0])))\n",
    "print(\"\")\n",
    "\n",
    "print(\"Relatório de Classificação:\")\n",
    "print(\"\")\n",
    "print(metrics.classification_report(Y_teste, previsao_modelo_3_metodo_2, labels = [1, 0]))"
   ]
  },
  {
   "cell_type": "markdown",
   "metadata": {},
   "source": [
    "### <font color='black'>6 - Construindo e Treinando Modelos</font><font color='blue'> com o Método nº 3: Com Balanceamento dos Dados - Over Sampling:</font>"
   ]
  },
  {
   "cell_type": "markdown",
   "metadata": {},
   "source": [
    "#### <font color='black'>Método nº 3 - Aplicando o Over Sampling - Synthetic Minority Oversampling Technique - SMOTE</font>\n",
    "\n",
    "### <font color='black'>Equililbrando os Dados de Treino (50% para cada Classe):</font>"
   ]
  },
  {
   "cell_type": "code",
   "execution_count": 118,
   "metadata": {},
   "outputs": [],
   "source": [
    "from imblearn.over_sampling import SMOTE"
   ]
  },
  {
   "cell_type": "code",
   "execution_count": 119,
   "metadata": {},
   "outputs": [],
   "source": [
    "os = SMOTE()"
   ]
  },
  {
   "cell_type": "code",
   "execution_count": 120,
   "metadata": {},
   "outputs": [],
   "source": [
    "X_treino_os, Y_treino_os = os.fit_resample(X_treino, Y_treino)"
   ]
  },
  {
   "cell_type": "code",
   "execution_count": 121,
   "metadata": {},
   "outputs": [
    {
     "data": {
      "text/plain": [
       "array([24539, 24539], dtype=int64)"
      ]
     },
     "execution_count": 121,
     "metadata": {},
     "output_type": "execute_result"
    }
   ],
   "source": [
    "np.bincount(Y_treino_os)"
   ]
  },
  {
   "cell_type": "code",
   "execution_count": 122,
   "metadata": {},
   "outputs": [
    {
     "name": "stdout",
     "output_type": "stream",
     "text": [
      "Dados de Treino: Empregadores Irregulares: 24539 (50.00%)\n",
      "Dados de Treino: Empregadores Regulares: 24539 (50.00%)\n"
     ]
    }
   ],
   "source": [
    "# Checando o Balanceamento e a Quantidade em Cada Classe da Variável Target (A Ser Prevista)\n",
    "\n",
    "print(\"Dados de Treino: Empregadores Irregulares: {0} ({1:0.2f}%)\".format(len(Y_treino_os[Y_treino_os[:] == 1]), \n",
    "                                                  (len(Y_treino_os[Y_treino_os[:] == 1])/len(Y_treino_os) * 100)))\n",
    "\n",
    "print(\"Dados de Treino: Empregadores Regulares: {0} ({1:0.2f}%)\".format(len(Y_treino_os[Y_treino_os[:] == 0]), \n",
    "                                                (len(Y_treino_os[Y_treino_os[:] == 0])/len(Y_treino_os) * 100)))"
   ]
  },
  {
   "cell_type": "code",
   "execution_count": 123,
   "metadata": {},
   "outputs": [
    {
     "data": {
      "image/png": "[encoded data removed]",
      "text/plain": [
       "<Figure size 432x288 with 1 Axes>"
      ]
     },
     "metadata": {
      "needs_background": "light"
     },
     "output_type": "display_data"
    }
   ],
   "source": [
    "# Verificando o Balanceamento em Forma de Gráfico\n",
    "\n",
    "ax = sns.countplot(x=Y_treino_os, palette=['g','r'])"
   ]
  },
  {
   "cell_type": "markdown",
   "metadata": {},
   "source": [
    "## 6.1 - Modelo Preditivo nº 1 - Naive Bayes\n",
    "\n",
    "### Criando e Treinando"
   ]
  },
  {
   "cell_type": "code",
   "execution_count": 124,
   "metadata": {},
   "outputs": [],
   "source": [
    "# Criando o Modelo Preditivo nº 1 - Naive Bayes\n",
    "\n",
    "modelo_1_metodo_3 = GaussianNB()"
   ]
  },
  {
   "cell_type": "code",
   "execution_count": 125,
   "metadata": {},
   "outputs": [
    {
     "data": {
      "text/plain": [
       "GaussianNB()"
      ]
     },
     "execution_count": 125,
     "metadata": {},
     "output_type": "execute_result"
    }
   ],
   "source": [
    "# Treinando o Modelo Preditivo nº 1 - Naive Bayes\n",
    "\n",
    "modelo_1_metodo_3.fit(X_treino_os, Y_treino_os.ravel())"
   ]
  },
  {
   "cell_type": "markdown",
   "metadata": {},
   "source": [
    "### Testando"
   ]
  },
  {
   "cell_type": "code",
   "execution_count": 126,
   "metadata": {},
   "outputs": [],
   "source": [
    "# Fazendo as Previsões com o Modelo Passando, como Entrada, os Valores das Variáveis Preditoras\n",
    "\n",
    "previsao_modelo_1_metodo_3 = modelo_1_metodo_3.predict(X_teste)"
   ]
  },
  {
   "cell_type": "markdown",
   "metadata": {},
   "source": [
    "### Avaliando\n",
    "\n",
    "### Verificando a Acurácia e Outras Métricas\n",
    "\n",
    "#### Matriz de Confusão e Relatório de Classificação"
   ]
  },
  {
   "cell_type": "code",
   "execution_count": 127,
   "metadata": {},
   "outputs": [
    {
     "data": {
      "image/jpeg": "[encoded data removed]",
      "text/plain": [
       "<IPython.core.display.Image object>"
      ]
     },
     "execution_count": 127,
     "metadata": {},
     "output_type": "execute_result"
    }
   ],
   "source": [
    "# Imprimindo o Diagrama da Matriz de Confusão\n",
    "\n",
    "from IPython.display import Image\n",
    "\n",
    "Image('Matriz_de_Confusao.jpg')"
   ]
  },
  {
   "cell_type": "code",
   "execution_count": 128,
   "metadata": {},
   "outputs": [
    {
     "name": "stdout",
     "output_type": "stream",
     "text": [
      "Exatidão (Acurácia): 0.6514\n",
      "\n"
     ]
    }
   ],
   "source": [
    "# Comparando os Valores da Variável Target Esperados (Y_teste) com os Valores da Variável Target Realmente Previstas pelo Modelo (previsao_modelo_1_metodo_3)\n",
    "\n",
    "print(\"Exatidão (Acurácia): {0:.4f}\".format(metrics.accuracy_score(Y_teste, previsao_modelo_1_metodo_3)))\n",
    "print()"
   ]
  },
  {
   "cell_type": "code",
   "execution_count": 129,
   "metadata": {},
   "outputs": [
    {
     "name": "stdout",
     "output_type": "stream",
     "text": [
      "Modelo Preditivo nº 1 - Naive Bayes\n",
      "\n",
      "Matriz de Confusão:\n",
      "\n",
      "[[10485    99]\n",
      " [ 5544    59]]\n",
      "\n",
      "Relatório de Classificação:\n",
      "\n",
      "              precision    recall  f1-score   support\n",
      "\n",
      "           1       0.65      0.99      0.79     10584\n",
      "           0       0.37      0.01      0.02      5603\n",
      "\n",
      "    accuracy                           0.65     16187\n",
      "   macro avg       0.51      0.50      0.40     16187\n",
      "weighted avg       0.56      0.65      0.52     16187\n",
      "\n"
     ]
    }
   ],
   "source": [
    "# Verificando a Matriz de Confusão e o Relatório de Classificação\n",
    "\n",
    "print(\"Modelo Preditivo nº 1 - Naive Bayes\")\n",
    "print(\"\")\n",
    "\n",
    "print(\"Matriz de Confusão:\")\n",
    "print(\"\")\n",
    "print(\"{0}\".format(metrics.confusion_matrix(Y_teste, previsao_modelo_1_metodo_3, labels = [1, 0])))\n",
    "print(\"\")\n",
    "\n",
    "# print (pd.crosstab(Y_teste, teste_previsao_nb, rownames=['Real'], colnames=['Predito'], margins=True))\n",
    "\n",
    "print(\"Relatório de Classificação:\")\n",
    "print(\"\")\n",
    "print(metrics.classification_report(Y_teste, previsao_modelo_1_metodo_3, labels = [1, 0]))"
   ]
  },
  {
   "cell_type": "markdown",
   "metadata": {},
   "source": [
    "## 6.2 - Modelo Preditivo nº 2 - Random Forest\n",
    "\n",
    "### Criando e Treinando"
   ]
  },
  {
   "cell_type": "code",
   "execution_count": 130,
   "metadata": {},
   "outputs": [],
   "source": [
    "# Criando o Modelo Preditivo nº 2 - Random Forest\n",
    "\n",
    "modelo_2_metodo_3 = RandomForestClassifier(random_state = 42)"
   ]
  },
  {
   "cell_type": "code",
   "execution_count": 131,
   "metadata": {},
   "outputs": [
    {
     "data": {
      "text/plain": [
       "RandomForestClassifier(random_state=42)"
      ]
     },
     "execution_count": 131,
     "metadata": {},
     "output_type": "execute_result"
    }
   ],
   "source": [
    "# Treinando o Modelo Preditivo nº 2 - Random Forest\n",
    "\n",
    "modelo_2_metodo_3.fit(X_treino_os, Y_treino_os.ravel())"
   ]
  },
  {
   "cell_type": "markdown",
   "metadata": {},
   "source": [
    "### Testando"
   ]
  },
  {
   "cell_type": "code",
   "execution_count": 132,
   "metadata": {},
   "outputs": [],
   "source": [
    "# Fazendo as Previsões com o Modelo Passando, como Entrada, os Valores das Variáveis Preditoras\n",
    "\n",
    "previsao_modelo_2_metodo_3 = modelo_2_metodo_3.predict(X_teste)"
   ]
  },
  {
   "cell_type": "markdown",
   "metadata": {},
   "source": [
    "### Avaliando\n",
    "\n",
    "### Verificando a Acurácia e Outras Métricas\n",
    "\n",
    "#### Matriz de Confusão e Relatório de Classificação"
   ]
  },
  {
   "cell_type": "code",
   "execution_count": 133,
   "metadata": {},
   "outputs": [
    {
     "data": {
      "image/jpeg": "[encoded data removed]",
      "text/plain": [
       "<IPython.core.display.Image object>"
      ]
     },
     "execution_count": 133,
     "metadata": {},
     "output_type": "execute_result"
    }
   ],
   "source": [
    "# Imprimindo o Diagrama da Matriz de Confusão\n",
    "\n",
    "from IPython.display import Image\n",
    "\n",
    "Image('Matriz_de_Confusao.jpg')"
   ]
  },
  {
   "cell_type": "code",
   "execution_count": 134,
   "metadata": {},
   "outputs": [
    {
     "name": "stdout",
     "output_type": "stream",
     "text": [
      "Exatidão (Acurácia): 0.7128\n",
      "\n"
     ]
    }
   ],
   "source": [
    "# Comparando os Valores da Variável Target Esperados (Y_teste) com os Valores da Variável Target Realmente Previstas pelo Modelo (previsao_modelo_2_metodo_3)\n",
    "\n",
    "print(\"Exatidão (Acurácia): {0:.4f}\".format(metrics.accuracy_score(Y_teste, previsao_modelo_2_metodo_3)))\n",
    "print()"
   ]
  },
  {
   "cell_type": "code",
   "execution_count": 135,
   "metadata": {},
   "outputs": [
    {
     "name": "stdout",
     "output_type": "stream",
     "text": [
      "Modelo Preditivo nº 2\n",
      "\n",
      "Matriz de Confusão:\n",
      "\n",
      "[[7810 2774]\n",
      " [1875 3728]]\n",
      "\n",
      "Relatório de Classificação:\n",
      "\n",
      "              precision    recall  f1-score   support\n",
      "\n",
      "           1       0.81      0.74      0.77     10584\n",
      "           0       0.57      0.67      0.62      5603\n",
      "\n",
      "    accuracy                           0.71     16187\n",
      "   macro avg       0.69      0.70      0.69     16187\n",
      "weighted avg       0.73      0.71      0.72     16187\n",
      "\n"
     ]
    }
   ],
   "source": [
    "# Verificando a Matriz de Confusão e o Relatório de Classificação\n",
    "\n",
    "print(\"Modelo Preditivo nº 2\")\n",
    "print(\"\")\n",
    "\n",
    "print(\"Matriz de Confusão:\")\n",
    "print(\"\")\n",
    "print(\"{0}\".format(metrics.confusion_matrix(Y_teste, previsao_modelo_2_metodo_3, labels = [1, 0])))\n",
    "print(\"\")\n",
    "\n",
    "print(\"Relatório de Classificação:\")\n",
    "print(\"\")\n",
    "print(metrics.classification_report(Y_teste, previsao_modelo_2_metodo_3, labels = [1, 0]))"
   ]
  },
  {
   "cell_type": "markdown",
   "metadata": {},
   "source": [
    "## 6.3 - Modelo Preditivo nº 3 - Regressão Logística\n",
    "\n",
    "### Criando e Treinando"
   ]
  },
  {
   "cell_type": "code",
   "execution_count": 136,
   "metadata": {},
   "outputs": [],
   "source": [
    "# Criando o Modelo Preditivo nº 3 - Regressão Logística\n",
    "\n",
    "modelo_3_metodo_3 = LogisticRegression(C = 0.7, random_state = 42, max_iter = 1000)"
   ]
  },
  {
   "cell_type": "code",
   "execution_count": 137,
   "metadata": {},
   "outputs": [
    {
     "data": {
      "text/plain": [
       "LogisticRegression(C=0.7, max_iter=1000, random_state=42)"
      ]
     },
     "execution_count": 137,
     "metadata": {},
     "output_type": "execute_result"
    }
   ],
   "source": [
    "# Treinando o Modelo Preditivo nº 3 - Regressão Logística\n",
    "\n",
    "modelo_3_metodo_3.fit(X_treino_os, Y_treino_os.ravel())"
   ]
  },
  {
   "cell_type": "markdown",
   "metadata": {},
   "source": [
    "### Testando"
   ]
  },
  {
   "cell_type": "code",
   "execution_count": 138,
   "metadata": {},
   "outputs": [],
   "source": [
    "# Fazendo as Previsões com o Modelo Passando, como Entrada, os Valores das Variáveis Preditoras\n",
    "\n",
    "previsao_modelo_3_metodo_3 = modelo_3_metodo_3.predict(X_teste)"
   ]
  },
  {
   "cell_type": "markdown",
   "metadata": {},
   "source": [
    "### Avaliando\n",
    "\n",
    "### Verificando a Acurácia e Outras Métricas\n",
    "\n",
    "#### Matriz de Confusão e Relatório de Classificação"
   ]
  },
  {
   "cell_type": "code",
   "execution_count": 139,
   "metadata": {},
   "outputs": [
    {
     "data": {
      "image/jpeg": "[encoded data removed]",
      "text/plain": [
       "<IPython.core.display.Image object>"
      ]
     },
     "execution_count": 139,
     "metadata": {},
     "output_type": "execute_result"
    }
   ],
   "source": [
    "# Imprimindo o Diagrama da Matriz de Confusão\n",
    "\n",
    "from IPython.display import Image\n",
    "\n",
    "Image('Matriz_de_Confusao.jpg')"
   ]
  },
  {
   "cell_type": "code",
   "execution_count": 140,
   "metadata": {},
   "outputs": [
    {
     "name": "stdout",
     "output_type": "stream",
     "text": [
      "Exatidão (Acurácia): 0.3461\n",
      "\n"
     ]
    }
   ],
   "source": [
    "# Comparando os Valores da Variável Target Esperados (Y_teste) com os Valores da Variável Target Realmente Previstas pelo Modelo (previsao_modelo_3_metodo_3)\n",
    "\n",
    "print(\"Exatidão (Acurácia): {0:.4f}\".format(metrics.accuracy_score(Y_teste, previsao_modelo_3_metodo_3)))\n",
    "print()"
   ]
  },
  {
   "cell_type": "code",
   "execution_count": 141,
   "metadata": {},
   "outputs": [
    {
     "name": "stdout",
     "output_type": "stream",
     "text": [
      "Modelo Preditivo nº 3 - Regressão Logística\n",
      "\n",
      "Matriz de Confusão:\n",
      "\n",
      "[[    0 10584]\n",
      " [    0  5603]]\n",
      "\n",
      "Relatório de Classificação:\n",
      "\n",
      "              precision    recall  f1-score   support\n",
      "\n",
      "           1       0.00      0.00      0.00     10584\n",
      "           0       0.35      1.00      0.51      5603\n",
      "\n",
      "    accuracy                           0.35     16187\n",
      "   macro avg       0.17      0.50      0.26     16187\n",
      "weighted avg       0.12      0.35      0.18     16187\n",
      "\n"
     ]
    },
    {
     "name": "stderr",
     "output_type": "stream",
     "text": [
      "C:\\Users\\Lucas Prado\\anaconda3\\lib\\site-packages\\sklearn\\metrics\\_classification.py:1248: UndefinedMetricWarning: Precision and F-score are ill-defined and being set to 0.0 in labels with no predicted samples. Use `zero_division` parameter to control this behavior.\n",
      "  _warn_prf(average, modifier, msg_start, len(result))\n",
      "C:\\Users\\Lucas Prado\\anaconda3\\lib\\site-packages\\sklearn\\metrics\\_classification.py:1248: UndefinedMetricWarning: Precision and F-score are ill-defined and being set to 0.0 in labels with no predicted samples. Use `zero_division` parameter to control this behavior.\n",
      "  _warn_prf(average, modifier, msg_start, len(result))\n",
      "C:\\Users\\Lucas Prado\\anaconda3\\lib\\site-packages\\sklearn\\metrics\\_classification.py:1248: UndefinedMetricWarning: Precision and F-score are ill-defined and being set to 0.0 in labels with no predicted samples. Use `zero_division` parameter to control this behavior.\n",
      "  _warn_prf(average, modifier, msg_start, len(result))\n"
     ]
    }
   ],
   "source": [
    "# Verificando a Matriz de Confusão e o Relatório de Classificação\n",
    "\n",
    "print(\"Modelo Preditivo nº 3 - Regressão Logística\")\n",
    "print(\"\")\n",
    "\n",
    "print(\"Matriz de Confusão:\")\n",
    "print(\"\")\n",
    "print(\"{0}\".format(metrics.confusion_matrix(Y_teste, previsao_modelo_3_metodo_3, labels = [1, 0])))\n",
    "print(\"\")\n",
    "\n",
    "print(\"Relatório de Classificação:\")\n",
    "print(\"\")\n",
    "print(metrics.classification_report(Y_teste, previsao_modelo_3_metodo_3, labels = [1, 0]))"
   ]
  },
  {
   "cell_type": "markdown",
   "metadata": {},
   "source": [
    "## <font color='red'>Modelo Final Selecionado:</font>\n",
    "\n",
    "## <font color='grey'>Modelo Preditivo nº 2 - Random Forest - Com Over Sampling</font>\n",
    "\n",
    "### Fazendo Previsões Com o Modelo"
   ]
  },
  {
   "cell_type": "code",
   "execution_count": 142,
   "metadata": {},
   "outputs": [],
   "source": [
    "# Importando o Pacote Pickle\n",
    "\n",
    "import pickle"
   ]
  },
  {
   "cell_type": "code",
   "execution_count": 143,
   "metadata": {},
   "outputs": [],
   "source": [
    "# Salvando a Versão Final do Modelo Selecionado - Modelo Preditivo nº 2 - Random Forest - Over Sampling\n",
    "\n",
    "modelo = 'modelo_final.sav'\n",
    "pickle.dump(modelo_2_metodo_3, open(modelo, 'wb'))"
   ]
  },
  {
   "cell_type": "code",
   "execution_count": 144,
   "metadata": {},
   "outputs": [
    {
     "data": {
      "text/plain": [
       "array([[ 573285,       1,       6,       1,      11],\n",
       "       [ 365855,       2,    1071,       1,       0],\n",
       "       [ 619609,       1,       5,      12,       0],\n",
       "       ...,\n",
       "       [ 391772,       2,       2,       3,       0],\n",
       "       [2521564,       2,       7,      10,       7],\n",
       "       [ 283542,       1,      13,      30,       7]], dtype=int64)"
      ]
     },
     "execution_count": 144,
     "metadata": {},
     "output_type": "execute_result"
    }
   ],
   "source": [
    "# Imprimindo os Dados de Teste\n",
    "\n",
    "X_teste"
   ]
  },
  {
   "cell_type": "code",
   "execution_count": 145,
   "metadata": {},
   "outputs": [],
   "source": [
    "# Carregando o Modelo Final Salvo\n",
    "\n",
    "modelo_carregado = pickle.load(open(modelo, 'rb'))"
   ]
  },
  {
   "cell_type": "code",
   "execution_count": 146,
   "metadata": {},
   "outputs": [
    {
     "name": "stdout",
     "output_type": "stream",
     "text": [
      "Previsão 1: [1]\n",
      "\n",
      "Previsão 2: [0]\n",
      "\n",
      "Previsão 3: [0]\n",
      "\n",
      "Previsão 4: [1]\n",
      "\n"
     ]
    }
   ],
   "source": [
    "# Fazendo Algumas Previsões Utilizando os Dados de Teste\n",
    "\n",
    "previsao_1 = modelo_carregado.predict(X_teste[2].reshape(1, -1))\n",
    "previsao_2 = modelo_carregado.predict(X_teste[6].reshape(1, -1))\n",
    "previsao_3 = modelo_carregado.predict(X_teste[9].reshape(1, -1))\n",
    "previsao_4 = modelo_carregado.predict(X_teste[15].reshape(1, -1))\n",
    "\n",
    "print(\"Previsão 1:\", previsao_1)\n",
    "print(\"\")\n",
    "print(\"Previsão 2:\", previsao_2)\n",
    "print(\"\")\n",
    "print(\"Previsão 3:\", previsao_3)\n",
    "print(\"\")\n",
    "print(\"Previsão 4:\", previsao_4)\n",
    "print(\"\")"
   ]
  },
  {
   "cell_type": "code",
   "execution_count": 147,
   "metadata": {},
   "outputs": [
    {
     "name": "stdout",
     "output_type": "stream",
     "text": [
      "Previsão 5: [1]\n",
      "\n",
      "Previsão 6: [0]\n",
      "\n",
      "Previsão 7: [0]\n",
      "\n",
      "Previsão 8: [1]\n",
      "\n",
      "Previsão 9: [1]\n",
      "\n",
      "Previsão 10: [1]\n"
     ]
    }
   ],
   "source": [
    "# Fazendo Algumas Previsões Utilizando Dados Quaisquer Inseridos Manualmente\n",
    "\n",
    "Dados_1 = np.array([500000, 1, 5, 0, 2])\n",
    "Dados_2 = np.array([30000, 2, 15, 0, 0])\n",
    "Dados_3 = np.array([15000, 1, 5, 2, 0])\n",
    "Dados_4 = np.array([15000, 1, 5, 20, 2])\n",
    "Dados_5 = np.array([1000000, 2, 15, 3, 7])\n",
    "Dados_6 = np.array([600000, 5, 62, 10, 15])\n",
    "\n",
    "\n",
    "previsao_5 = modelo_carregado.predict(Dados_1.reshape(1, -1))\n",
    "previsao_6 = modelo_carregado.predict(Dados_2.reshape(1, -1))\n",
    "previsao_7 = modelo_carregado.predict(Dados_3.reshape(1, -1))\n",
    "previsao_8 = modelo_carregado.predict(Dados_4.reshape(1, -1))\n",
    "previsao_9 = modelo_carregado.predict(Dados_5.reshape(1, -1))\n",
    "previsao_10 = modelo_carregado.predict(Dados_6.reshape(1, -1))\n",
    "\n",
    "print(\"Previsão 5:\", previsao_5)\n",
    "print(\"\")\n",
    "print(\"Previsão 6:\", previsao_6)\n",
    "print(\"\")\n",
    "print(\"Previsão 7:\", previsao_7)\n",
    "print(\"\")\n",
    "print(\"Previsão 8:\", previsao_8)\n",
    "print(\"\")\n",
    "print(\"Previsão 9:\", previsao_9)\n",
    "print(\"\")\n",
    "print(\"Previsão 10:\", previsao_10)"
   ]
  },
  {
   "cell_type": "markdown",
   "metadata": {},
   "source": [
    "## Fim"
   ]
  }
 ],
 "metadata": {
  "kernelspec": {
   "display_name": "Python 3",
   "language": "python",
   "name": "python3"
  },
  "language_info": {
   "codemirror_mode": {
    "name": "ipython",
    "version": 3
   },
   "file_extension": ".py",
   "mimetype": "text/x-python",
   "name": "python",
   "nbconvert_exporter": "python",
   "pygments_lexer": "ipython3",
   "version": "3.7.6"
  }
 },
 "nbformat": 4,
 "nbformat_minor": 4
}
